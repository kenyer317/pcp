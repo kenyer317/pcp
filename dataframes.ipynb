{
 "cells": [
  {
   "cell_type": "markdown",
   "id": "cfe3ec0c",
   "metadata": {},
   "source": [
    "Tu diccionario debe tener el siguiente formato:\n",
    "\n",
    "Las claves del diccionario serán los nombres de tus columnas.\n",
    "\n",
    "Los valores asociados a cada clave deben ser listas (o arreglos de NumPy) que contengan los datos para esa columna específica. Es crucial que todas estas listas tengan la misma longitud, ya que cada elemento en la misma posición de cada lista formará una fila del DataFrame.\n",
    "\n"
   ]
  },
  {
   "cell_type": "code",
   "execution_count": 1,
   "id": "cededa92",
   "metadata": {},
   "outputs": [],
   "source": [
    "import pandas as pd"
   ]
  },
  {
   "cell_type": "code",
   "execution_count": 2,
   "id": "fd59adb6",
   "metadata": {},
   "outputs": [],
   "source": [
    "datos_alumnos = {\n",
    "    'Nombre': ['Ana', 'Juan', 'María', 'Pedro'],\n",
    "    'Edad': [20, 22, 21, 23],\n",
    "    'Carrera': ['Ingeniería', 'Derecho', 'Medicina', 'Arquitectura'],\n",
    "    'Promedio': [8.5, 7.9, 9.1, 8.2]\n",
    "}\n",
    "\n"
   ]
  },
  {
   "cell_type": "code",
   "execution_count": 3,
   "id": "59cf46d0",
   "metadata": {},
   "outputs": [
    {
     "name": "stdout",
     "output_type": "stream",
     "text": [
      "  Nombre  Edad       Carrera  Promedio\n",
      "0    Ana    20    Ingeniería       8.5\n",
      "1   Juan    22       Derecho       7.9\n",
      "2  María    21      Medicina       9.1\n",
      "3  Pedro    23  Arquitectura       8.2\n"
     ]
    }
   ],
   "source": [
    "# Creamos el DataFrame a partir del diccionario\n",
    "df_alumnos = pd.DataFrame(datos_alumnos)\n",
    "\n",
    "# Mostramos el DataFrame para ver su contenido\n",
    "print(df_alumnos)"
   ]
  },
  {
   "cell_type": "markdown",
   "id": "80a7420b",
   "metadata": {},
   "source": [
    "Observa cómo pandas ha interpretado automáticamente:\n",
    "\n",
    "Las claves del diccionario como los nombres de las columnas.\n",
    "\n",
    "Las listas como los datos de cada columna.\n",
    "\n",
    "Ha añadido un índice numérico por defecto (0, 1, 2, 3) para las filas."
   ]
  },
  {
   "cell_type": "markdown",
   "id": "d1fa25c0",
   "metadata": {},
   "source": [
    "# Otro ejemplo de DataFrame"
   ]
  },
  {
   "cell_type": "code",
   "execution_count": 4,
   "id": "c6eda8a6",
   "metadata": {},
   "outputs": [
    {
     "name": "stdout",
     "output_type": "stream",
     "text": [
      "  Producto  Precio  Stock    Categoria\n",
      "0   Laptop    1200     50  Electrónica\n",
      "1    Mouse      25    200   Accesorios\n",
      "2  Teclado      75    150   Accesorios\n",
      "3  Monitor     300     30  Electrónica\n"
     ]
    }
   ],
   "source": [
    "import pandas as pd\n",
    "\n",
    "# Diccionario con información de productos\n",
    "datos_productos = {\n",
    "    'Producto': ['Laptop', 'Mouse', 'Teclado', 'Monitor'],\n",
    "    'Precio': [1200, 25, 75, 300],\n",
    "    'Stock': [50, 200, 150, 30],\n",
    "    'Categoria': ['Electrónica', 'Accesorios', 'Accesorios', 'Electrónica']\n",
    "}\n",
    "\n",
    "# Crear el DataFrame\n",
    "df_productos = pd.DataFrame(datos_productos)\n",
    "\n",
    "# Imprimir el DataFrame\n",
    "print(df_productos)"
   ]
  },
  {
   "cell_type": "markdown",
   "id": "263eeeb3",
   "metadata": {},
   "source": [
    "# Data frame a partir de una lista"
   ]
  },
  {
   "cell_type": "code",
   "execution_count": 5,
   "id": "d1ccae9d",
   "metadata": {},
   "outputs": [
    {
     "name": "stdout",
     "output_type": "stream",
     "text": [
      "   Nombre  Edad     Ciudad\n",
      "0     Ana    23     Madrid\n",
      "1    Luis    34  Barcelona\n",
      "2  Carlos    45   Valencia\n"
     ]
    }
   ],
   "source": [
    "import pandas as pd\n",
    "\n",
    "datos = [\n",
    "    ['Ana', 23, 'Madrid'],\n",
    "    ['Luis', 34, 'Barcelona'],\n",
    "    ['Carlos', 45, 'Valencia']\n",
    "]\n",
    "\n",
    "columnas = ['Nombre', 'Edad', 'Ciudad']\n",
    "\n",
    "df = pd.DataFrame(datos, columns=columnas)\n",
    "print(df)\n"
   ]
  },
  {
   "cell_type": "markdown",
   "id": "361304e2",
   "metadata": {},
   "source": [
    "# Data frame a partir de una lista de diccionarios"
   ]
  },
  {
   "cell_type": "code",
   "execution_count": 6,
   "id": "3d38acf8",
   "metadata": {},
   "outputs": [
    {
     "name": "stdout",
     "output_type": "stream",
     "text": [
      "   Nombre  Edad     Ciudad\n",
      "0     Ana    23     Madrid\n",
      "1    Luis    34  Barcelona\n",
      "2  Carlos    45   Valencia\n"
     ]
    }
   ],
   "source": [
    "datos = [\n",
    "    {'Nombre': 'Ana', 'Edad': 23, 'Ciudad': 'Madrid'},\n",
    "    {'Nombre': 'Luis', 'Edad': 34, 'Ciudad': 'Barcelona'},\n",
    "    {'Nombre': 'Carlos', 'Edad': 45, 'Ciudad': 'Valencia'}\n",
    "]\n",
    "\n",
    "df = pd.DataFrame(datos)\n",
    "print(df)\n"
   ]
  },
  {
   "cell_type": "markdown",
   "id": "363d53ce",
   "metadata": {},
   "source": [
    "# Dataframe a patir de una lista simple\n"
   ]
  },
  {
   "cell_type": "code",
   "execution_count": 7,
   "id": "e8dac4e8",
   "metadata": {},
   "outputs": [
    {
     "name": "stdout",
     "output_type": "stream",
     "text": [
      "   Nombre\n",
      "0     Ana\n",
      "1    Luis\n",
      "2  Carlos\n"
     ]
    }
   ],
   "source": [
    "datos = ['Ana', 'Luis', 'Carlos']\n",
    "\n",
    "df = pd.DataFrame(datos, columns=['Nombre'])\n",
    "print(df)\n"
   ]
  },
  {
   "cell_type": "markdown",
   "id": "6af90bb4",
   "metadata": {},
   "source": [
    "# Crear dataframe a partir de un archivo\n",
    "### DataFrame a partir de un archivo CSV\n",
    "\n",
    "```python\n",
    "import pandas as pd\n",
    "\n",
    "# Leer un archivo CSV y crear un DataFrame\n",
    "df = pd.read_csv('archivo.csv')\n",
    "print(df)\n",
    "```\n",
    "\n",
    "### DataFrame a partir de un archivo Excel\n",
    "\n",
    "```python\n",
    "import pandas as pd\n",
    "\n",
    "# Leer un archivo Excel y crear un DataFrame\n",
    "df = pd.read_excel('archivo.xlsx')\n",
    "print(df)\n",
    "```\n",
    "### Desde un archivo de texto con separadores (como tabulaciones)\n",
    "\n",
    "```python\n",
    "import pandas as pd     \n",
    "\n",
    "df = pd.read_csv('archivo.txt', sep='\\t')  # o usa otro separador como ';'\n",
    "print(df)\n",
    "```"
   ]
  }
 ],
 "metadata": {
  "kernelspec": {
   "display_name": "base",
   "language": "python",
   "name": "python3"
  },
  "language_info": {
   "codemirror_mode": {
    "name": "ipython",
    "version": 3
   },
   "file_extension": ".py",
   "mimetype": "text/x-python",
   "name": "python",
   "nbconvert_exporter": "python",
   "pygments_lexer": "ipython3",
   "version": "3.11.7"
  }
 },
 "nbformat": 4,
 "nbformat_minor": 5
}
