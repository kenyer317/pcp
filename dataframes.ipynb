{
 "cells": [
  {
   "cell_type": "markdown",
   "id": "79b5e01c",
   "metadata": {},
   "source": [
    "# Clase 1"
   ]
  },
  {
   "cell_type": "markdown",
   "id": "4cd94c86",
   "metadata": {},
   "source": [
    "# DataFrame\n",
    "Un DataFrame en Python es una estructura de datos bidimensional proporcionada por la biblioteca Pandas. Se asemeja a una hoja de cálculo de Excel o a una tabla en una base de datos, donde los datos se organizan en filas y columnas.\n",
    "\n",
    "## Características principales:\n",
    "- Filas y columnas: Cada columna puede contener un tipo de dato diferente (números, cadenas, etc.), y cada fila representa una instancia de datos.\n",
    "- Etiquetas: Tanto las filas como las columnas pueden tener etiquetas, lo que facilita la manipulación y el acceso a los datos.\n",
    "- Métodos y atributos: Pandas ofrece una variedad de métodos para importar, manipular y analizar datos, como read_csv() para importar datos desde un archivo CSV, info() para obtener información sobre el DataFrame, y describe() para obtener estadísticas descriptivas.\n",
    "- Para crear un dataframe en python se debe hacer uso de la libreria pandas. \n",
    "\n",
    "## ¿Qué es una librería en Python?\n",
    "Una librería en Python es una colección de módulos y paquetes que contienen funciones, clases y métodos predefinidos. Estas librerías extienden la funcionalidad básica del lenguaje, permitiendo a los desarrolladores reutilizar código y acceder a funcionalidades adicionales sin tener que escribir todo desde cero. Por ejemplo, hay librerías para manipulación de datos, visualización, aprendizaje automático, y mucho más.\n",
    "\n",
    "## ¿Qué es Pandas?\n",
    "Pandas es una de las librerías más populares en Python para la manipulación y análisis de datos. Fue creada por Wes McKinney en 2008 y proporciona estructuras de datos poderosas y flexibles, como Series y DataFrames, que facilitan el trabajo con datos tabulares (similares a las hojas de cálculo de Excel).\n",
    "\n",
    "Para usar la libreria pnadas en python debemos incluir el siguiente código\n",
    "```python\n",
    "import pandas as pd\n",
    "```\n",
    "\n",
    "\n"
   ]
  },
  {
   "cell_type": "markdown",
   "id": "80c21cbf",
   "metadata": {},
   "source": [
    "## Ejemplo básico\n",
    "```python\n",
    "# Cargando la libreria pandas\n",
    "import pandas as pd\n",
    "\n",
    "# Crear un DataFrame a partir de un diccionario\n",
    "data = {\n",
    "    'Nombre': ['Ana', 'Luis', 'María'],\n",
    "    'Edad': [23, 45, 34],\n",
    "    'Ciudad': ['Madrid', 'Barcelona', 'Valencia']\n",
    "}\n",
    "\n",
    "df = pd.DataFrame(data)\n",
    "\n",
    "print(df)\n",
    "\n",
    "```"
   ]
  },
  {
   "cell_type": "code",
   "execution_count": 8,
   "id": "e569e259",
   "metadata": {},
   "outputs": [
    {
     "name": "stdout",
     "output_type": "stream",
     "text": [
      "  Nombre  Edad     Ciudad\n",
      "0    Ana    23     Madrid\n",
      "1   Luis    45  Barcelona\n",
      "2  María    34   Valencia\n"
     ]
    }
   ],
   "source": [
    "# Cargando la libreria pandas\n",
    "import pandas as pd\n",
    "\n",
    "# Crear un DataFrame a partir de un diccionario\n",
    "data = {\n",
    "    'Nombre': ['Ana', 'Luis', 'María'],\n",
    "    'Edad': [23, 45, 34],\n",
    "    'Ciudad': ['Madrid', 'Barcelona', 'Valencia']\n",
    "}\n",
    "\n",
    "df = pd.DataFrame(data)\n",
    "\n",
    "print(df)\n"
   ]
  },
  {
   "cell_type": "markdown",
   "id": "867f183d",
   "metadata": {},
   "source": [
    "## Crea un dataframe con los datos de las personas del curso, las columnas son: nombre, apellido, edad, mascota. La columna mascota es booleano y depende de si la persona tiene mascota o no."
   ]
  },
  {
   "cell_type": "markdown",
   "id": "11e5f67b",
   "metadata": {},
   "source": [
    "## Datraframe a partir de un diccionario\n",
    "Tu diccionario debe tener el siguiente formato:\n",
    "\n",
    "Las claves del diccionario serán los nombres de tus columnas.\n",
    "\n",
    "Los valores asociados a cada clave deben ser listas (o arreglos de NumPy) que contengan los datos para esa columna específica. Es crucial que todas estas listas tengan la misma longitud, ya que cada elemento en la misma posición de cada lista formará una fila del DataFrame.\n",
    "\n",
    "## Ejemplo\n",
    "\n",
    "```python\n",
    "import pandas as pd\n",
    "datos_alumnos = {\n",
    "    'Nombre': ['Ana', 'Juan', 'María', 'Pedro'],\n",
    "    'Edad': [20, 22, 21, 23],\n",
    "    'Carrera': ['Ingeniería', 'Derecho', 'Medicina', 'Arquitectura'],\n",
    "    'Promedio': [8.5, 7.9, 9.1, 8.2]\n",
    "}\n",
    "\n",
    "```"
   ]
  },
  {
   "cell_type": "code",
   "execution_count": 10,
   "id": "e3287252",
   "metadata": {},
   "outputs": [
    {
     "name": "stdout",
     "output_type": "stream",
     "text": [
      "  Nombre  Edad       Carrera  Promedio\n",
      "0    Ana    20    Ingeniería       8.5\n",
      "1   Juan    22       Derecho       7.9\n",
      "2  María    21      Medicina       9.1\n",
      "3  Pedro    23  Arquitectura       8.2\n"
     ]
    }
   ],
   "source": [
    "import pandas as pd\n",
    "datos_alumnos = {\n",
    "    'Nombre': ['Ana', 'Juan', 'María', 'Pedro'],\n",
    "    'Edad': [20, 22, 21, 23],\n",
    "    'Carrera': ['Ingeniería', 'Derecho', 'Medicina', 'Arquitectura'],\n",
    "    'Promedio': [8.5, 7.9, 9.1, 8.2]\n",
    "}\n",
    "# Creamos el DataFrame a partir del diccionario\n",
    "df_alumnos = pd.DataFrame(datos_alumnos)\n",
    "\n",
    "# Mostramos el DataFrame para ver su contenido\n",
    "print(df_alumnos)"
   ]
  },
  {
   "cell_type": "markdown",
   "id": "cfe3ec0c",
   "metadata": {},
   "source": [
    "Observa cómo pandas ha interpretado automáticamente:\n",
    "\n",
    "Las claves del diccionario como los nombres de las columnas.\n",
    "\n",
    "Las listas como los datos de cada columna.\n",
    "\n",
    "Ha añadido un índice numérico por defecto (0, 1, 2, 3) para las filas.\n",
    "\n"
   ]
  },
  {
   "cell_type": "markdown",
   "id": "cededa92",
   "metadata": {},
   "source": [
    "## Otro ejemplo\n",
    "\n",
    "```python\n",
    "import pandas as pd\n",
    "\n",
    "# Diccionario con información de productos\n",
    "datos_productos = {\n",
    "    'Producto': ['Laptop', 'Mouse', 'Teclado', 'Monitor'],\n",
    "    'Precio': [1200, 25, 75, 300],\n",
    "    'Stock': [50, 200, 150, 30],\n",
    "    'Categoria': ['Electrónica', 'Accesorios', 'Accesorios', 'Electrónica']\n",
    "}\n",
    "\n",
    "# Crear el DataFrame\n",
    "df_productos = pd.DataFrame(datos_productos)\n",
    "\n",
    "# Imprimir el DataFrame\n",
    "print(df_productos)\n",
    "```"
   ]
  },
  {
   "cell_type": "code",
   "execution_count": 11,
   "id": "fd59adb6",
   "metadata": {},
   "outputs": [
    {
     "name": "stdout",
     "output_type": "stream",
     "text": [
      "  Producto  Precio  Stock    Categoria\n",
      "0   Laptop    1200     50  Electrónica\n",
      "1    Mouse      25    200   Accesorios\n",
      "2  Teclado      75    150   Accesorios\n",
      "3  Monitor     300     30  Electrónica\n"
     ]
    }
   ],
   "source": [
    "import pandas as pd\n",
    "\n",
    "# Diccionario con información de productos\n",
    "datos_productos = {\n",
    "    'Producto': ['Laptop', 'Mouse', 'Teclado', 'Monitor'],\n",
    "    'Precio': [1200, 25, 75, 300],\n",
    "    'Stock': [50, 200, 150, 30],\n",
    "    'Categoria': ['Electrónica', 'Accesorios', 'Accesorios', 'Electrónica']\n",
    "}\n",
    "\n",
    "# Crear el DataFrame\n",
    "df_productos = pd.DataFrame(datos_productos)\n",
    "\n",
    "# Imprimir el DataFrame\n",
    "print(df_productos)"
   ]
  },
  {
   "cell_type": "markdown",
   "id": "80a7420b",
   "metadata": {},
   "source": []
  },
  {
   "cell_type": "markdown",
   "id": "263eeeb3",
   "metadata": {},
   "source": [
    "# Data frame a partir de una lista"
   ]
  },
  {
   "cell_type": "code",
   "execution_count": 13,
   "id": "d1ccae9d",
   "metadata": {},
   "outputs": [
    {
     "name": "stdout",
     "output_type": "stream",
     "text": [
      "   Nombre  Edad     Ciudad\n",
      "0     Ana    23     Madrid\n",
      "1    Luis    34  Barcelona\n",
      "2  Carlos    45   Valencia\n"
     ]
    }
   ],
   "source": [
    "import pandas as pd\n",
    "\n",
    "datos = [\n",
    "    ['Ana', 23, 'Madrid'],\n",
    "    ['Luis', 34, 'Barcelona'],\n",
    "    ['Carlos', 45, 'Valencia']\n",
    "]\n",
    "\n",
    "columnas = ['Nombre', 'Edad', 'Ciudad']\n",
    "\n",
    "df = pd.DataFrame(datos, columns=columnas)\n",
    "print(df)\n"
   ]
  },
  {
   "cell_type": "markdown",
   "id": "361304e2",
   "metadata": {},
   "source": [
    "# Data frame a partir de una lista de diccionarios"
   ]
  },
  {
   "cell_type": "code",
   "execution_count": 12,
   "id": "3d38acf8",
   "metadata": {},
   "outputs": [
    {
     "name": "stdout",
     "output_type": "stream",
     "text": [
      "   Nombre  Edad     Ciudad\n",
      "0     Ana    23     Madrid\n",
      "1    Luis    34  Barcelona\n",
      "2  Carlos    45   Valencia\n"
     ]
    }
   ],
   "source": [
    "datos = [\n",
    "    {'Nombre': 'Ana', 'Edad': 23, 'Ciudad': 'Madrid'},\n",
    "    {'Nombre': 'Luis', 'Edad': 34, 'Ciudad': 'Barcelona'},\n",
    "    {'Nombre': 'Carlos', 'Edad': 45, 'Ciudad': 'Valencia'}\n",
    "]\n",
    "\n",
    "df = pd.DataFrame(datos)\n",
    "print(df)\n"
   ]
  },
  {
   "cell_type": "markdown",
   "id": "363d53ce",
   "metadata": {},
   "source": [
    "# Dataframe a patir de una lista simple\n"
   ]
  },
  {
   "cell_type": "code",
   "execution_count": 14,
   "id": "e8dac4e8",
   "metadata": {},
   "outputs": [
    {
     "name": "stdout",
     "output_type": "stream",
     "text": [
      "   Nombre\n",
      "0     Ana\n",
      "1    Luis\n",
      "2  Carlos\n"
     ]
    }
   ],
   "source": [
    "datos = ['Ana', 'Luis', 'Carlos']\n",
    "\n",
    "df = pd.DataFrame(datos, columns=['Nombre'])\n",
    "print(df)\n"
   ]
  },
  {
   "cell_type": "markdown",
   "id": "6af90bb4",
   "metadata": {},
   "source": [
    "# Crear dataframe a partir de un archivo\n",
    "### DataFrame a partir de un archivo CSV\n",
    "\n",
    "```python\n",
    "import pandas as pd\n",
    "\n",
    "# Leer un archivo CSV y crear un DataFrame\n",
    "df = pd.read_csv('archivo.csv')\n",
    "print(df)\n",
    "```\n",
    "\n",
    "### Ejemplo carga el archivo datos.csv"
   ]
  },
  {
   "cell_type": "code",
   "execution_count": 18,
   "id": "28e447ee",
   "metadata": {},
   "outputs": [
    {
     "name": "stdout",
     "output_type": "stream",
     "text": [
      "  Nombre  Edad   Curso  Nota\n",
      "0    Ana    21  Física   6.5\n",
      "1   Luis    22  Física   5.8\n",
      "2  Carla    20  Física   7.2\n",
      "3  Tomás    23  Física   4.9\n"
     ]
    }
   ],
   "source": [
    "import pandas as pd\n",
    "\n",
    "# Cargar el archivo CSV\n",
    "df1 = pd.read_csv('datos.csv')\n",
    "\n",
    "# Mostrar el DataFrame\n",
    "print(df1)"
   ]
  },
  {
   "cell_type": "markdown",
   "id": "03fca542",
   "metadata": {},
   "source": [
    "### DataFrame a partir de un archivo Excel\n",
    "\n",
    "```python\n",
    "import pandas as pd\n",
    "\n",
    "# Leer un archivo Excel y crear un DataFrame\n",
    "df = pd.read_excel('datos.xlsx')\n",
    "print(df)\n",
    "```\n"
   ]
  },
  {
   "cell_type": "code",
   "execution_count": 1,
   "id": "10f22220",
   "metadata": {},
   "outputs": [
    {
     "name": "stdout",
     "output_type": "stream",
     "text": [
      "  Nombre  Edad   Curso  Nota\n",
      "0    Ana    21  Física   6.5\n",
      "1   Luis    22  Física   5.8\n",
      "2  Carla    20  Física   7.2\n",
      "3  Tomás    23  Física   4.9\n"
     ]
    }
   ],
   "source": [
    "import pandas as pd\n",
    "\n",
    "# Leer un archivo Excel y crear un DataFrame\n",
    "df = pd.read_excel('datos.xlsx')\n",
    "print(df)\n"
   ]
  },
  {
   "cell_type": "markdown",
   "id": "7cc47097",
   "metadata": {},
   "source": [
    "# 📊 Métodos comunes de DataFrames en Pandas (con ejemplos)\n",
    "\n",
    "## 1. `.head(n)`\n",
    "**Muestra las primeras `n` filas del DataFrame.**\n",
    "```python\n",
    "df.head(3)\n",
    "```\n",
    "\n",
    "## 2. `.tail(n)`\n",
    "**Muestra las últimas `n` filas del DataFrame.**\n",
    "```python\n",
    "df.tail(2)\n",
    "```\n",
    "\n",
    "## 3. `.info()`\n",
    "**Muestra un resumen del DataFrame: columnas, tipos de datos, valores no nulos.**\n",
    "```python\n",
    "df.info()\n",
    "```\n",
    "\n",
    "## 4. `.describe()`\n",
    "**Estadísticas básicas (media, desviación, min, max...) de columnas numéricas.**\n",
    "```python\n",
    "df.describe()\n",
    "```\n",
    "\n",
    "## 5. `.shape`\n",
    "**Devuelve una tupla con el número de filas y columnas.**\n",
    "```python\n",
    "df.shape  # (filas, columnas)\n",
    "```\n",
    "\n",
    "## 6. `.columns`\n",
    "**Devuelve el listado de nombres de columnas.**\n",
    "```python\n",
    "df.columns\n",
    "```\n",
    "\n",
    "## 7. `.dtypes`\n",
    "**Devuelve el tipo de datos de cada columna.**\n",
    "```python\n",
    "df.dtypes\n",
    "```\n",
    "\n",
    "## 8. `.isnull()`\n",
    "**Indica con True/False si un valor es nulo.**\n",
    "```python\n",
    "df.isnull()\n",
    "```\n",
    "\n",
    "## 9. `.dropna()`\n",
    "**Elimina filas con valores nulos.**\n",
    "```python\n",
    "df.dropna()\n",
    "```\n",
    "\n",
    "## 10. `.fillna(valor)`\n",
    "**Rellena los valores nulos con `valor`.**\n",
    "```python\n",
    "df.fillna(0)\n",
    "```\n",
    "\n",
    "## 11. `.sort_values(by='col')`\n",
    "**Ordena el DataFrame según una columna.**\n",
    "```python\n",
    "df.sort_values(by='Edad')\n",
    "```\n",
    "\n",
    "## 12. `.groupby('col')`\n",
    "**Agrupa datos por una columna (útil para operaciones estadísticas).**\n",
    "```python\n",
    "df.groupby('Ciudad').mean()\n",
    "```\n",
    "\n",
    "## 13. `.value_counts()`\n",
    "**Cuenta la frecuencia de cada valor en una columna.**\n",
    "```python\n",
    "df['Ciudad'].value_counts()\n",
    "```\n",
    "\n",
    "## 14. `.loc[filas, columnas]`\n",
    "**Accede a filas/columnas por etiqueta.**\n",
    "```python\n",
    "df.loc[0, 'Nombre']  # primer nombre\n",
    "```\n",
    "\n",
    "## 15. `.iloc[fila, columna]`\n",
    "**Accede por posición (índice entero).**\n",
    "```python\n",
    "df.iloc[0, 1]  # valor en fila 0, columna 1\n",
    "```\n",
    "\n",
    "## 16. `.rename(columns={'ViejoNombre': 'NuevoNombre'})`\n",
    "**Renombra columnas.**\n",
    "```python\n",
    "df.rename(columns={'Edad': 'Años'})\n",
    "```\n",
    "\n",
    "## 17. `.drop('col', axis=1)`\n",
    "**Elimina una columna.**\n",
    "```python\n",
    "df.drop('Ciudad', axis=1)\n",
    "```\n",
    "\n",
    "## 18. `.apply(func)`\n",
    "**Aplica una función a cada valor de una columna.**\n",
    "```python\n",
    "df['Edad'].apply(lambda x: x + 1)\n",
    "```\n",
    "\n",
    "## 19. `.astype(tipo)`\n",
    "**Cambia el tipo de datos de una columna.**\n",
    "```python\n",
    "df['Edad'] = df['Edad'].astype(float)\n",
    "```\n",
    "\n",
    "## 20. `.duplicated()`\n",
    "**Detecta filas duplicadas.**\n",
    "```python\n",
    "df.duplicated()\n",
    "```"
   ]
  },
  {
   "cell_type": "code",
   "execution_count": 32,
   "id": "87df20c8",
   "metadata": {},
   "outputs": [
    {
     "data": {
      "text/html": [
       "<div>\n",
       "<style scoped>\n",
       "    .dataframe tbody tr th:only-of-type {\n",
       "        vertical-align: middle;\n",
       "    }\n",
       "\n",
       "    .dataframe tbody tr th {\n",
       "        vertical-align: top;\n",
       "    }\n",
       "\n",
       "    .dataframe thead th {\n",
       "        text-align: right;\n",
       "    }\n",
       "</style>\n",
       "<table border=\"1\" class=\"dataframe\">\n",
       "  <thead>\n",
       "    <tr style=\"text-align: right;\">\n",
       "      <th></th>\n",
       "      <th>ID_Articulo</th>\n",
       "      <th>Nombre_Articulo</th>\n",
       "      <th>Categoria</th>\n",
       "      <th>Precio_Unitario</th>\n",
       "      <th>Stock</th>\n",
       "      <th>Disponibilidad</th>\n",
       "      <th>Fecha_Ultima_Venta</th>\n",
       "      <th>Unidades_Vendidas_Ultimo_Mes</th>\n",
       "      <th>Valor_Total_Ventas_Ultimo_Mes</th>\n",
       "    </tr>\n",
       "  </thead>\n",
       "  <tbody>\n",
       "    <tr>\n",
       "      <th>0</th>\n",
       "      <td>1</td>\n",
       "      <td>Altavoz Inteligente Amazon Echo Dot</td>\n",
       "      <td>Electrónica</td>\n",
       "      <td>552.12</td>\n",
       "      <td>391</td>\n",
       "      <td>En Stock</td>\n",
       "      <td>2025-01-28</td>\n",
       "      <td>114</td>\n",
       "      <td>14275.98</td>\n",
       "    </tr>\n",
       "    <tr>\n",
       "      <th>1</th>\n",
       "      <td>2</td>\n",
       "      <td>Anillo de Compromiso Blue Nile</td>\n",
       "      <td>Moda</td>\n",
       "      <td>440.09</td>\n",
       "      <td>242</td>\n",
       "      <td>En Stock</td>\n",
       "      <td>2024-08-01</td>\n",
       "      <td>92</td>\n",
       "      <td>4427.35</td>\n",
       "    </tr>\n",
       "    <tr>\n",
       "      <th>2</th>\n",
       "      <td>3</td>\n",
       "      <td>Tostadora Smeg</td>\n",
       "      <td>Hogar y Cocina</td>\n",
       "      <td>224.23</td>\n",
       "      <td>261</td>\n",
       "      <td>En Stock</td>\n",
       "      <td>2024-11-20</td>\n",
       "      <td>131</td>\n",
       "      <td>10012.87</td>\n",
       "    </tr>\n",
       "    <tr>\n",
       "      <th>3</th>\n",
       "      <td>4</td>\n",
       "      <td>Termostato Inteligente Ecobee</td>\n",
       "      <td>Electrónica</td>\n",
       "      <td>1359.81</td>\n",
       "      <td>215</td>\n",
       "      <td>En Stock</td>\n",
       "      <td>2025-05-19</td>\n",
       "      <td>178</td>\n",
       "      <td>14169.57</td>\n",
       "    </tr>\n",
       "    <tr>\n",
       "      <th>4</th>\n",
       "      <td>5</td>\n",
       "      <td>Microscopio AmScope</td>\n",
       "      <td>Juguetes</td>\n",
       "      <td>114.73</td>\n",
       "      <td>472</td>\n",
       "      <td>En Stock</td>\n",
       "      <td>2024-12-07</td>\n",
       "      <td>175</td>\n",
       "      <td>18854.76</td>\n",
       "    </tr>\n",
       "    <tr>\n",
       "      <th>...</th>\n",
       "      <td>...</td>\n",
       "      <td>...</td>\n",
       "      <td>...</td>\n",
       "      <td>...</td>\n",
       "      <td>...</td>\n",
       "      <td>...</td>\n",
       "      <td>...</td>\n",
       "      <td>...</td>\n",
       "      <td>...</td>\n",
       "    </tr>\n",
       "    <tr>\n",
       "      <th>195</th>\n",
       "      <td>196</td>\n",
       "      <td>Auriculares Sony WH-1000XM5</td>\n",
       "      <td>Electrónica</td>\n",
       "      <td>1346.06</td>\n",
       "      <td>478</td>\n",
       "      <td>En Stock</td>\n",
       "      <td>2024-11-06</td>\n",
       "      <td>177</td>\n",
       "      <td>10996.65</td>\n",
       "    </tr>\n",
       "    <tr>\n",
       "      <th>196</th>\n",
       "      <td>197</td>\n",
       "      <td>Tablet Apple iPad Air</td>\n",
       "      <td>Electrónica</td>\n",
       "      <td>1479.92</td>\n",
       "      <td>109</td>\n",
       "      <td>En Stock</td>\n",
       "      <td>2024-11-06</td>\n",
       "      <td>177</td>\n",
       "      <td>10996.65</td>\n",
       "    </tr>\n",
       "    <tr>\n",
       "      <th>197</th>\n",
       "      <td>198</td>\n",
       "      <td>Reloj Inteligente Apple Watch Series 9</td>\n",
       "      <td>Electrónica</td>\n",
       "      <td>1359.81</td>\n",
       "      <td>215</td>\n",
       "      <td>En Stock</td>\n",
       "      <td>2025-05-19</td>\n",
       "      <td>178</td>\n",
       "      <td>14169.57</td>\n",
       "    </tr>\n",
       "    <tr>\n",
       "      <th>198</th>\n",
       "      <td>199</td>\n",
       "      <td>Smartphone Samsung Galaxy S24</td>\n",
       "      <td>Electrónica</td>\n",
       "      <td>1404.99</td>\n",
       "      <td>149</td>\n",
       "      <td>En Stock</td>\n",
       "      <td>2025-04-20</td>\n",
       "      <td>131</td>\n",
       "      <td>2343.68</td>\n",
       "    </tr>\n",
       "    <tr>\n",
       "      <th>199</th>\n",
       "      <td>200</td>\n",
       "      <td>Laptop HP Spectre x360</td>\n",
       "      <td>Electrónica</td>\n",
       "      <td>128.53</td>\n",
       "      <td>197</td>\n",
       "      <td>En Stock</td>\n",
       "      <td>2024-11-23</td>\n",
       "      <td>170</td>\n",
       "      <td>16632.18</td>\n",
       "    </tr>\n",
       "  </tbody>\n",
       "</table>\n",
       "<p>200 rows × 9 columns</p>\n",
       "</div>"
      ],
      "text/plain": [
       "     ID_Articulo                         Nombre_Articulo       Categoria  \\\n",
       "0              1     Altavoz Inteligente Amazon Echo Dot     Electrónica   \n",
       "1              2          Anillo de Compromiso Blue Nile            Moda   \n",
       "2              3                          Tostadora Smeg  Hogar y Cocina   \n",
       "3              4           Termostato Inteligente Ecobee     Electrónica   \n",
       "4              5                     Microscopio AmScope        Juguetes   \n",
       "..           ...                                     ...             ...   \n",
       "195          196             Auriculares Sony WH-1000XM5     Electrónica   \n",
       "196          197                   Tablet Apple iPad Air     Electrónica   \n",
       "197          198  Reloj Inteligente Apple Watch Series 9     Electrónica   \n",
       "198          199           Smartphone Samsung Galaxy S24     Electrónica   \n",
       "199          200                  Laptop HP Spectre x360     Electrónica   \n",
       "\n",
       "     Precio_Unitario  Stock Disponibilidad Fecha_Ultima_Venta  \\\n",
       "0             552.12    391       En Stock         2025-01-28   \n",
       "1             440.09    242       En Stock         2024-08-01   \n",
       "2             224.23    261       En Stock         2024-11-20   \n",
       "3            1359.81    215       En Stock         2025-05-19   \n",
       "4             114.73    472       En Stock         2024-12-07   \n",
       "..               ...    ...            ...                ...   \n",
       "195          1346.06    478       En Stock         2024-11-06   \n",
       "196          1479.92    109       En Stock         2024-11-06   \n",
       "197          1359.81    215       En Stock         2025-05-19   \n",
       "198          1404.99    149       En Stock         2025-04-20   \n",
       "199           128.53    197       En Stock         2024-11-23   \n",
       "\n",
       "     Unidades_Vendidas_Ultimo_Mes  Valor_Total_Ventas_Ultimo_Mes  \n",
       "0                             114                       14275.98  \n",
       "1                              92                        4427.35  \n",
       "2                             131                       10012.87  \n",
       "3                             178                       14169.57  \n",
       "4                             175                       18854.76  \n",
       "..                            ...                            ...  \n",
       "195                           177                       10996.65  \n",
       "196                           177                       10996.65  \n",
       "197                           178                       14169.57  \n",
       "198                           131                        2343.68  \n",
       "199                           170                       16632.18  \n",
       "\n",
       "[200 rows x 9 columns]"
      ]
     },
     "execution_count": 32,
     "metadata": {},
     "output_type": "execute_result"
    }
   ],
   "source": [
    "import pandas as pd\n",
    "df = pd.read_csv('articulos.csv')\n",
    "df"
   ]
  },
  {
   "cell_type": "markdown",
   "id": "991549c4",
   "metadata": {},
   "source": [
    "# Clase 2: Series de Panda (pandas Series)\n",
    "Una serie en Pandas es una estructura unidimensional que puede contener cualquier tipo de dato (enteros, cadenas, flotantes, etc.). Es similar a una lista o un arreglo de  pero con etiquetas (índices) para cada elemento. Podemos pensar en una serie como una columna de un DataFrame, pero con la ventaja de que puede ser manipulada de forma independiente."
   ]
  },
  {
   "cell_type": "markdown",
   "id": "09ecf0d0",
   "metadata": {},
   "source": [
    "## Ejemplo básico de una serie pandas a partir de una lista\n",
    "```python\n",
    "import pandas as pd\n",
    "\n",
    "# Crear una serie a partir de una lista\n",
    "datos = [10, 20, 30, 40, 50]\n",
    "serie = pd.Series(datos)\n",
    "\n",
    "print(serie)\n",
    "```"
   ]
  },
  {
   "cell_type": "code",
   "execution_count": 2,
   "id": "916c09f6",
   "metadata": {},
   "outputs": [
    {
     "name": "stdout",
     "output_type": "stream",
     "text": [
      "0    10\n",
      "1    20\n",
      "2    30\n",
      "3    40\n",
      "4    50\n",
      "dtype: int64\n"
     ]
    }
   ],
   "source": [
    "import pandas as pd\n",
    "\n",
    "# Crear una serie a partir de una lista\n",
    "datos = [10, 20, 30, 40, 50]\n",
    "serie = pd.Series(datos)\n",
    "\n",
    "print(serie)"
   ]
  },
  {
   "cell_type": "markdown",
   "id": "440c6ba8",
   "metadata": {},
   "source": [
    "## Accediendo a los elementos de una serie usando el índice\n",
    "```python\n",
    "import pandas as pd\n",
    "# Crear una serie con índices personalizados\n",
    "datos = [10, 20, 30, 40, 50]\n",
    "serie = pd.Series(datos)\n",
    "print(serie[0])  # Accede al elemento con índice 0\n",
    "print(serie[1])  # Accede al elemento con índice 1\n",
    "print(serie[2])  # Accede al elemento con índice 2\n",
    "print(serie[3])  # Accede al elemento con índice 3\n",
    "print(serie[4])  # Accede al elemento con índice 4\n",
    "```"
   ]
  },
  {
   "cell_type": "code",
   "execution_count": 5,
   "id": "80ee735e",
   "metadata": {},
   "outputs": [
    {
     "name": "stdout",
     "output_type": "stream",
     "text": [
      "10\n",
      "20\n",
      "30\n",
      "40\n",
      "50\n"
     ]
    }
   ],
   "source": [
    "import pandas as pd\n",
    "# Crear una serie con índices personalizados\n",
    "datos = [10, 20, 30, 40, 50]\n",
    "serie = pd.Series(datos)\n",
    "print(serie[0])  # Accede al elemento con índice 0\n",
    "print(serie[1])  # Accede al elemento con índice 1\n",
    "print(serie[2])  # Accede al elemento con índice 2\n",
    "print(serie[3])  # Accede al elemento con índice 3\n",
    "print(serie[4])  # Accede al elemento con índice 4"
   ]
  },
  {
   "cell_type": "markdown",
   "id": "50426e50",
   "metadata": {},
   "source": [
    "## Podemos cambiar los índices de una serie pandas agregando el parámetro `index` al momento de crear la serie\n",
    "\n",
    "```python\n",
    "import pandas as pd   \n",
    "# Crear una serie con índices personalizados\n",
    "datos = [\"Pera\", \"Manzana\", \"Naranja\", \"Plátano\", \"Uva\"]\n",
    "serie1 = pd.Series(datos, index=['a', 'b', 'c', 'd', 'e']) \n",
    "print(serie)\n",
    "```"
   ]
  },
  {
   "cell_type": "code",
   "execution_count": 8,
   "id": "985e961e",
   "metadata": {},
   "outputs": [
    {
     "name": "stdout",
     "output_type": "stream",
     "text": [
      "a       Pera\n",
      "b    Manzana\n",
      "c    Naranja\n",
      "d    Plátano\n",
      "e        Uva\n",
      "dtype: object\n"
     ]
    }
   ],
   "source": [
    "import pandas as pd   \n",
    "# Crear una serie con índices personalizados\n",
    "datos = [\"Pera\", \"Manzana\", \"Naranja\", \"Plátano\", \"Uva\"]\n",
    "serie1 = pd.Series(datos, index=['a', 'b', 'c', 'd', 'e']) \n",
    "print(serie)"
   ]
  },
  {
   "cell_type": "markdown",
   "id": "80f8a0f9",
   "metadata": {},
   "source": [
    "## Acceder a los elementos de una serie usando sus ínidces personalizados\n",
    "```python\n",
    "print(serie1['a'])  # Accede al elemento con índice 'a'\n",
    "print(serie1['b'])  # Accede al elemento con índice 'b'\n",
    "print(serie1['c'])  # Accede al elemento con índice 'c'\n",
    "print(serie1['d'])  # Accede al elemento con índice 'd'\n",
    "print(serie1['e'])  # Accede al elemento con índice 'e'\n",
    "```"
   ]
  },
  {
   "cell_type": "code",
   "execution_count": 15,
   "id": "0e07bb29",
   "metadata": {},
   "outputs": [
    {
     "name": "stdout",
     "output_type": "stream",
     "text": [
      "Pera\n",
      "Manzana\n",
      "Naranja\n",
      "Plátano\n",
      "Uva\n"
     ]
    }
   ],
   "source": [
    "print(serie1['a'])  # Accede al elemento con índice 'a'\n",
    "print(serie1['b'])  # Accede al elemento con índice 'b'\n",
    "print(serie1['c'])  # Accede al elemento con índice 'c'\n",
    "print(serie1['d'])  # Accede al elemento con índice 'd'\n",
    "print(serie1['e'])  # Accede al elemento con índice 'e'"
   ]
  },
  {
   "cell_type": "markdown",
   "id": "0110020e",
   "metadata": {},
   "source": [
    "## Ordenando una serie pandas\n",
    "```python\n",
    "import pandas as pd\n",
    "# Crear una serie con datos desordenados          \n",
    "datos = [50, 20, 10, 40, 30]\n",
    "serie = pd.Series(datos)\n",
    "# Ordenar la serie\n",
    "serie_ordenada = serie.sort_values()\n",
    "print(serie_ordenada)\n",
    "```"
   ]
  },
  {
   "cell_type": "code",
   "execution_count": 10,
   "id": "9e618108",
   "metadata": {},
   "outputs": [
    {
     "name": "stdout",
     "output_type": "stream",
     "text": [
      "2    10\n",
      "1    20\n",
      "4    30\n",
      "3    40\n",
      "0    50\n",
      "dtype: int64\n"
     ]
    }
   ],
   "source": [
    "import pandas as pd\n",
    "# Crear una serie con datos desordenados          \n",
    "datos = [50, 20, 10, 40, 30]\n",
    "serie = pd.Series(datos)\n",
    "# Ordenar la serie\n",
    "serie_ordenada = serie.sort_values()\n",
    "print(serie_ordenada)"
   ]
  },
  {
   "cell_type": "markdown",
   "id": "4352c98e",
   "metadata": {},
   "source": [
    "## Ordenando de manera descendente\n",
    "```   python\n",
    "serie_ordenada_desc = serie.sort_values(ascending=False)\n",
    "print(serie_ordenada_desc)\n",
    "```"
   ]
  },
  {
   "cell_type": "code",
   "execution_count": 11,
   "id": "3a3600f9",
   "metadata": {},
   "outputs": [
    {
     "name": "stdout",
     "output_type": "stream",
     "text": [
      "0    50\n",
      "3    40\n",
      "4    30\n",
      "1    20\n",
      "2    10\n",
      "dtype: int64\n"
     ]
    }
   ],
   "source": [
    "serie_ordenada_desc = serie.sort_values(ascending=False)\n",
    "print(serie_ordenada_desc)"
   ]
  },
  {
   "cell_type": "markdown",
   "id": "bdfc7272",
   "metadata": {},
   "source": [
    "## Calculo de maximos, minimos, suma, desviación estandard.        \n",
    "\n",
    "```python\n",
    "print(serie.max())  # Máximo valor de la serie\n",
    "print(serie.min())  # Mínimo valor de la serie\n",
    "print(serie.sum())  # Suma de la serie\n",
    "print(serie.max())  # Máximo de la serie\n",
    "print(serie.std())  # desviación estándar     \n",
    "```\n",
    "\n"
   ]
  },
  {
   "cell_type": "code",
   "execution_count": 14,
   "id": "1162f92a",
   "metadata": {},
   "outputs": [
    {
     "name": "stdout",
     "output_type": "stream",
     "text": [
      "50\n",
      "10\n",
      "150\n",
      "50\n",
      "15.811388300841896\n"
     ]
    }
   ],
   "source": [
    "print(serie.max())  # Máximo valor de la serie\n",
    "print(serie.min())  # Mínimo valor de la serie\n",
    "print(serie.sum())  # Suma de la serie\n",
    "print(serie.max())  # Máximo de la serie\n",
    "print(serie.std())  # desviación estándar"
   ]
  },
  {
   "cell_type": "markdown",
   "id": "e30b992e",
   "metadata": {},
   "source": [
    "## Selección de elementos en un dataframe"
   ]
  },
  {
   "cell_type": "markdown",
   "id": "dde3e07e",
   "metadata": {},
   "source": [
    "## Selección de filas con el método `.loc`\n"
   ]
  },
  {
   "cell_type": "code",
   "execution_count": 20,
   "id": "3ec16a7f",
   "metadata": {},
   "outputs": [
    {
     "name": "stdout",
     "output_type": "stream",
     "text": [
      "   time  calories  duration\n",
      "0   120       420        50\n",
      "1    60       380        40\n",
      "2    45       390        45\n"
     ]
    }
   ],
   "source": [
    "import pandas as pd\n",
    "\n",
    "data = {\n",
    "  \"time\":[120, 60, 45],\n",
    "  \"calories\": [420, 380, 390],\n",
    "  \"duration\": [50, 40, 45]\n",
    "}\n",
    "df = pd.DataFrame(data)\n",
    "\n",
    "print(df) \n"
   ]
  },
  {
   "cell_type": "code",
   "execution_count": 43,
   "id": "ccebfdbf",
   "metadata": {},
   "outputs": [
    {
     "name": "stdout",
     "output_type": "stream",
     "text": [
      "time        120\n",
      "calories    420\n",
      "duration     50\n",
      "Name: day1, dtype: int64\n",
      "<class 'pandas.core.series.Series'>\n"
     ]
    }
   ],
   "source": [
    "# seleccionando la primera fila \n",
    "# Si se usa un solo corchete retorna una serie \n",
    "print(df.iloc[0]) \n",
    "print(type(df.iloc[0]))"
   ]
  },
  {
   "cell_type": "code",
   "execution_count": null,
   "id": "141075a2",
   "metadata": {},
   "outputs": [
    {
     "name": "stdout",
     "output_type": "stream",
     "text": [
      "   time  calories  duration\n",
      "0   120       420        50\n",
      "<class 'pandas.core.frame.DataFrame'>\n"
     ]
    }
   ],
   "source": [
    "# Seleccionando la primera fila (otra forma)\n",
    "# si se usan dos corchetes retorna un dataframe\n",
    "print(df.iloc[[0]])\n",
    "print(type(df.iloc[[0]]))"
   ]
  },
  {
   "cell_type": "code",
   "execution_count": 24,
   "id": "222d23de",
   "metadata": {},
   "outputs": [
    {
     "name": "stdout",
     "output_type": "stream",
     "text": [
      "   time  calories  duration\n",
      "1    60       380        40\n",
      "2    45       390        45\n"
     ]
    }
   ],
   "source": [
    "# Seleccionando varias filas\n",
    "print(df.iloc[[1, 2]])"
   ]
  },
  {
   "cell_type": "markdown",
   "id": "be55651e",
   "metadata": {},
   "source": [
    "## Nombrando los índices de un dataframe\n",
    "\n"
   ]
  },
  {
   "cell_type": "code",
   "execution_count": 31,
   "id": "f0b03349",
   "metadata": {},
   "outputs": [
    {
     "name": "stdout",
     "output_type": "stream",
     "text": [
      "      time  calories  duration\n",
      "day1   120       420        50\n",
      "day2    60       380        40\n",
      "day3    45       390        45\n",
      "day4    60       400        39\n"
     ]
    }
   ],
   "source": [
    "data = {\n",
    "  \"time\":[120, 60, 45, 60],\n",
    "  \"calories\": [420, 380, 390, 400],\n",
    "  \"duration\": [50, 40, 45, 39]\n",
    "}\n",
    "df = pd.DataFrame(data, index=[\"day1\", \"day2\", \"day3\", \"day4\"])\n",
    "\n",
    "print(df) "
   ]
  },
  {
   "cell_type": "markdown",
   "id": "8a322367",
   "metadata": {},
   "source": [
    "## Seleccionando filas con nombres con .loc"
   ]
  },
  {
   "cell_type": "code",
   "execution_count": null,
   "id": "a5c36af4",
   "metadata": {},
   "outputs": [
    {
     "data": {
      "text/plain": [
       "590"
      ]
     },
     "execution_count": 39,
     "metadata": {},
     "output_type": "execute_result"
    }
   ],
   "source": [
    "df.loc[\"day1\"] # Esto es una serie"
   ]
  },
  {
   "cell_type": "code",
   "execution_count": 40,
   "id": "91598a2b",
   "metadata": {},
   "outputs": [
    {
     "data": {
      "text/html": [
       "<div>\n",
       "<style scoped>\n",
       "    .dataframe tbody tr th:only-of-type {\n",
       "        vertical-align: middle;\n",
       "    }\n",
       "\n",
       "    .dataframe tbody tr th {\n",
       "        vertical-align: top;\n",
       "    }\n",
       "\n",
       "    .dataframe thead th {\n",
       "        text-align: right;\n",
       "    }\n",
       "</style>\n",
       "<table border=\"1\" class=\"dataframe\">\n",
       "  <thead>\n",
       "    <tr style=\"text-align: right;\">\n",
       "      <th></th>\n",
       "      <th>time</th>\n",
       "      <th>calories</th>\n",
       "      <th>duration</th>\n",
       "    </tr>\n",
       "  </thead>\n",
       "  <tbody>\n",
       "    <tr>\n",
       "      <th>day1</th>\n",
       "      <td>120</td>\n",
       "      <td>420</td>\n",
       "      <td>50</td>\n",
       "    </tr>\n",
       "  </tbody>\n",
       "</table>\n",
       "</div>"
      ],
      "text/plain": [
       "      time  calories  duration\n",
       "day1   120       420        50"
      ]
     },
     "execution_count": 40,
     "metadata": {},
     "output_type": "execute_result"
    }
   ],
   "source": [
    "df.loc[[\"day1\"]] # Esto es un dataframe"
   ]
  },
  {
   "cell_type": "code",
   "execution_count": 42,
   "id": "5a6254c6",
   "metadata": {},
   "outputs": [
    {
     "data": {
      "text/html": [
       "<div>\n",
       "<style scoped>\n",
       "    .dataframe tbody tr th:only-of-type {\n",
       "        vertical-align: middle;\n",
       "    }\n",
       "\n",
       "    .dataframe tbody tr th {\n",
       "        vertical-align: top;\n",
       "    }\n",
       "\n",
       "    .dataframe thead th {\n",
       "        text-align: right;\n",
       "    }\n",
       "</style>\n",
       "<table border=\"1\" class=\"dataframe\">\n",
       "  <thead>\n",
       "    <tr style=\"text-align: right;\">\n",
       "      <th></th>\n",
       "      <th>time</th>\n",
       "      <th>calories</th>\n",
       "      <th>duration</th>\n",
       "    </tr>\n",
       "  </thead>\n",
       "  <tbody>\n",
       "    <tr>\n",
       "      <th>day2</th>\n",
       "      <td>60</td>\n",
       "      <td>380</td>\n",
       "      <td>40</td>\n",
       "    </tr>\n",
       "    <tr>\n",
       "      <th>day4</th>\n",
       "      <td>60</td>\n",
       "      <td>400</td>\n",
       "      <td>39</td>\n",
       "    </tr>\n",
       "    <tr>\n",
       "      <th>day3</th>\n",
       "      <td>45</td>\n",
       "      <td>390</td>\n",
       "      <td>45</td>\n",
       "    </tr>\n",
       "  </tbody>\n",
       "</table>\n",
       "</div>"
      ],
      "text/plain": [
       "      time  calories  duration\n",
       "day2    60       380        40\n",
       "day4    60       400        39\n",
       "day3    45       390        45"
      ]
     },
     "execution_count": 42,
     "metadata": {},
     "output_type": "execute_result"
    }
   ],
   "source": [
    "df.loc[[\"day2\", \"day4\", \"day3\"]]"
   ]
  },
  {
   "cell_type": "markdown",
   "id": "186d76ef",
   "metadata": {},
   "source": [
    "## Recuerda usa `.iloc` para índices numéricos y `.loc` con índices con nombres."
   ]
  },
  {
   "cell_type": "markdown",
   "id": "d8ee7845",
   "metadata": {},
   "source": [
    "## Se pueden usar rengos para seleccionar filas"
   ]
  },
  {
   "cell_type": "code",
   "execution_count": 47,
   "id": "c1f4a4ce",
   "metadata": {},
   "outputs": [
    {
     "data": {
      "text/html": [
       "<div>\n",
       "<style scoped>\n",
       "    .dataframe tbody tr th:only-of-type {\n",
       "        vertical-align: middle;\n",
       "    }\n",
       "\n",
       "    .dataframe tbody tr th {\n",
       "        vertical-align: top;\n",
       "    }\n",
       "\n",
       "    .dataframe thead th {\n",
       "        text-align: right;\n",
       "    }\n",
       "</style>\n",
       "<table border=\"1\" class=\"dataframe\">\n",
       "  <thead>\n",
       "    <tr style=\"text-align: right;\">\n",
       "      <th></th>\n",
       "      <th>time</th>\n",
       "      <th>calories</th>\n",
       "      <th>duration</th>\n",
       "    </tr>\n",
       "  </thead>\n",
       "  <tbody>\n",
       "    <tr>\n",
       "      <th>day1</th>\n",
       "      <td>120</td>\n",
       "      <td>420</td>\n",
       "      <td>50</td>\n",
       "    </tr>\n",
       "    <tr>\n",
       "      <th>day2</th>\n",
       "      <td>60</td>\n",
       "      <td>380</td>\n",
       "      <td>40</td>\n",
       "    </tr>\n",
       "    <tr>\n",
       "      <th>day3</th>\n",
       "      <td>45</td>\n",
       "      <td>390</td>\n",
       "      <td>45</td>\n",
       "    </tr>\n",
       "  </tbody>\n",
       "</table>\n",
       "</div>"
      ],
      "text/plain": [
       "      time  calories  duration\n",
       "day1   120       420        50\n",
       "day2    60       380        40\n",
       "day3    45       390        45"
      ]
     },
     "execution_count": 47,
     "metadata": {},
     "output_type": "execute_result"
    }
   ],
   "source": [
    "df.loc[\"day1\":\"day3\"] # selecciona desde el primer índice hasta el último, ambos extremos incluidos."
   ]
  },
  {
   "cell_type": "markdown",
   "id": "64c01e63",
   "metadata": {},
   "source": [
    "## Selección de columnas en un dataframe\n"
   ]
  },
  {
   "cell_type": "code",
   "execution_count": 51,
   "id": "882f76f8",
   "metadata": {},
   "outputs": [
    {
     "data": {
      "text/html": [
       "<div>\n",
       "<style scoped>\n",
       "    .dataframe tbody tr th:only-of-type {\n",
       "        vertical-align: middle;\n",
       "    }\n",
       "\n",
       "    .dataframe tbody tr th {\n",
       "        vertical-align: top;\n",
       "    }\n",
       "\n",
       "    .dataframe thead th {\n",
       "        text-align: right;\n",
       "    }\n",
       "</style>\n",
       "<table border=\"1\" class=\"dataframe\">\n",
       "  <thead>\n",
       "    <tr style=\"text-align: right;\">\n",
       "      <th></th>\n",
       "      <th>Nombre</th>\n",
       "      <th>Edad</th>\n",
       "      <th>Ciudad</th>\n",
       "    </tr>\n",
       "  </thead>\n",
       "  <tbody>\n",
       "    <tr>\n",
       "      <th>0</th>\n",
       "      <td>Ana</td>\n",
       "      <td>20</td>\n",
       "      <td>Santiago</td>\n",
       "    </tr>\n",
       "    <tr>\n",
       "      <th>1</th>\n",
       "      <td>Luis</td>\n",
       "      <td>25</td>\n",
       "      <td>Valparaíso</td>\n",
       "    </tr>\n",
       "    <tr>\n",
       "      <th>2</th>\n",
       "      <td>Pedro</td>\n",
       "      <td>30</td>\n",
       "      <td>Concepción</td>\n",
       "    </tr>\n",
       "  </tbody>\n",
       "</table>\n",
       "</div>"
      ],
      "text/plain": [
       "  Nombre  Edad      Ciudad\n",
       "0    Ana    20    Santiago\n",
       "1   Luis    25  Valparaíso\n",
       "2  Pedro    30  Concepción"
      ]
     },
     "execution_count": 51,
     "metadata": {},
     "output_type": "execute_result"
    }
   ],
   "source": [
    "import pandas as pd\n",
    "\n",
    "df = pd.DataFrame({\n",
    "    'Nombre': ['Ana', 'Luis', 'Pedro'],\n",
    "    'Edad': [20, 25, 30],\n",
    "    'Ciudad': ['Santiago', 'Valparaíso', 'Concepción']\n",
    "})\n",
    "\n",
    "df"
   ]
  },
  {
   "cell_type": "code",
   "execution_count": null,
   "id": "5b6ade66",
   "metadata": {},
   "outputs": [
    {
     "name": "stdout",
     "output_type": "stream",
     "text": [
      "<class 'pandas.core.series.Series'>\n"
     ]
    }
   ],
   "source": [
    "print(df['Nombre'])  # Devuelve una Serie con los nombres"
   ]
  },
  {
   "cell_type": "code",
   "execution_count": 56,
   "id": "4da4b0b5",
   "metadata": {},
   "outputs": [
    {
     "name": "stdout",
     "output_type": "stream",
     "text": [
      "  Nombre\n",
      "0    Ana\n",
      "1   Luis\n",
      "2  Pedro\n"
     ]
    }
   ],
   "source": [
    "print(df[['Nombre']])  # Devuelve un dataframe con los nombres"
   ]
  }
 ],
 "metadata": {
  "kernelspec": {
   "display_name": "base",
   "language": "python",
   "name": "python3"
  },
  "language_info": {
   "codemirror_mode": {
    "name": "ipython",
    "version": 3
   },
   "file_extension": ".py",
   "mimetype": "text/x-python",
   "name": "python",
   "nbconvert_exporter": "python",
   "pygments_lexer": "ipython3",
   "version": "3.11.7"
  }
 },
 "nbformat": 4,
 "nbformat_minor": 5
}
