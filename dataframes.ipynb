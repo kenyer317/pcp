{
 "cells": [
  {
   "cell_type": "markdown",
   "id": "4cd94c86",
   "metadata": {},
   "source": [
    "# DataFrame\n",
    "Un DataFrame en Python es una estructura de datos bidimensional proporcionada por la biblioteca Pandas. Se asemeja a una hoja de cálculo de Excel o a una tabla en una base de datos, donde los datos se organizan en filas y columnas.\n",
    "\n",
    "## Características principales:\n",
    "- Filas y columnas: Cada columna puede contener un tipo de dato diferente (números, cadenas, etc.), y cada fila representa una instancia de datos.\n",
    "- Etiquetas: Tanto las filas como las columnas pueden tener etiquetas, lo que facilita la manipulación y el acceso a los datos.\n",
    "- Métodos y atributos: Pandas ofrece una variedad de métodos para importar, manipular y analizar datos, como read_csv() para importar datos desde un archivo CSV, info() para obtener información sobre el DataFrame, y describe() para obtener estadísticas descriptivas.\n",
    "- Para crear un dataframe en python se debe hacer uso de la libreria pandas. \n",
    "\n",
    "## ¿Qué es una librería en Python?\n",
    "Una librería en Python es una colección de módulos y paquetes que contienen funciones, clases y métodos predefinidos. Estas librerías extienden la funcionalidad básica del lenguaje, permitiendo a los desarrolladores reutilizar código y acceder a funcionalidades adicionales sin tener que escribir todo desde cero. Por ejemplo, hay librerías para manipulación de datos, visualización, aprendizaje automático, y mucho más.\n",
    "\n",
    "## ¿Qué es Pandas?\n",
    "Pandas es una de las librerías más populares en Python para la manipulación y análisis de datos. Fue creada por Wes McKinney en 2008 y proporciona estructuras de datos poderosas y flexibles, como Series y DataFrames, que facilitan el trabajo con datos tabulares (similares a las hojas de cálculo de Excel).\n",
    "\n",
    "Para usar la libreria pnadas en python debemos incluir el siguiente código\n",
    "```python\n",
    "import pandas as pd\n",
    "```\n",
    "\n",
    "\n"
   ]
  },
  {
   "cell_type": "markdown",
   "id": "80c21cbf",
   "metadata": {},
   "source": [
    "## Ejemplo básico\n",
    "```python\n",
    "# Cargando la libreria pandas\n",
    "import pandas as pd\n",
    "\n",
    "# Crear un DataFrame a partir de un diccionario\n",
    "data = {\n",
    "    'Nombre': ['Ana', 'Luis', 'María'],\n",
    "    'Edad': [23, 45, 34],\n",
    "    'Ciudad': ['Madrid', 'Barcelona', 'Valencia']\n",
    "}\n",
    "\n",
    "df = pd.DataFrame(data)\n",
    "\n",
    "print(df)\n",
    "\n",
    "```"
   ]
  },
  {
   "cell_type": "code",
   "execution_count": 8,
   "id": "e569e259",
   "metadata": {},
   "outputs": [
    {
     "name": "stdout",
     "output_type": "stream",
     "text": [
      "  Nombre  Edad     Ciudad\n",
      "0    Ana    23     Madrid\n",
      "1   Luis    45  Barcelona\n",
      "2  María    34   Valencia\n"
     ]
    }
   ],
   "source": [
    "# Cargando la libreria pandas\n",
    "import pandas as pd\n",
    "\n",
    "# Crear un DataFrame a partir de un diccionario\n",
    "data = {\n",
    "    'Nombre': ['Ana', 'Luis', 'María'],\n",
    "    'Edad': [23, 45, 34],\n",
    "    'Ciudad': ['Madrid', 'Barcelona', 'Valencia']\n",
    "}\n",
    "\n",
    "df = pd.DataFrame(data)\n",
    "\n",
    "print(df)\n"
   ]
  },
  {
   "cell_type": "markdown",
   "id": "867f183d",
   "metadata": {},
   "source": [
    "## Crea un dataframe con los datos de las personas del curso, las columnas son: nombre, apellido, edad, mascota. La columna mascota es booleano y depende de si la persona tiene mascota o no."
   ]
  },
  {
   "cell_type": "markdown",
   "id": "11e5f67b",
   "metadata": {},
   "source": [
    "## Datraframe a partir de un diccionario\n",
    "Tu diccionario debe tener el siguiente formato:\n",
    "\n",
    "Las claves del diccionario serán los nombres de tus columnas.\n",
    "\n",
    "Los valores asociados a cada clave deben ser listas (o arreglos de NumPy) que contengan los datos para esa columna específica. Es crucial que todas estas listas tengan la misma longitud, ya que cada elemento en la misma posición de cada lista formará una fila del DataFrame.\n",
    "\n",
    "## Ejemplo\n",
    "\n",
    "```python\n",
    "import pandas as pd\n",
    "datos_alumnos = {\n",
    "    'Nombre': ['Ana', 'Juan', 'María', 'Pedro'],\n",
    "    'Edad': [20, 22, 21, 23],\n",
    "    'Carrera': ['Ingeniería', 'Derecho', 'Medicina', 'Arquitectura'],\n",
    "    'Promedio': [8.5, 7.9, 9.1, 8.2]\n",
    "}\n",
    "\n",
    "```"
   ]
  },
  {
   "cell_type": "code",
   "execution_count": 10,
   "id": "e3287252",
   "metadata": {},
   "outputs": [
    {
     "name": "stdout",
     "output_type": "stream",
     "text": [
      "  Nombre  Edad       Carrera  Promedio\n",
      "0    Ana    20    Ingeniería       8.5\n",
      "1   Juan    22       Derecho       7.9\n",
      "2  María    21      Medicina       9.1\n",
      "3  Pedro    23  Arquitectura       8.2\n"
     ]
    }
   ],
   "source": [
    "import pandas as pd\n",
    "datos_alumnos = {\n",
    "    'Nombre': ['Ana', 'Juan', 'María', 'Pedro'],\n",
    "    'Edad': [20, 22, 21, 23],\n",
    "    'Carrera': ['Ingeniería', 'Derecho', 'Medicina', 'Arquitectura'],\n",
    "    'Promedio': [8.5, 7.9, 9.1, 8.2]\n",
    "}\n",
    "# Creamos el DataFrame a partir del diccionario\n",
    "df_alumnos = pd.DataFrame(datos_alumnos)\n",
    "\n",
    "# Mostramos el DataFrame para ver su contenido\n",
    "print(df_alumnos)"
   ]
  },
  {
   "cell_type": "markdown",
   "id": "cfe3ec0c",
   "metadata": {},
   "source": [
    "Observa cómo pandas ha interpretado automáticamente:\n",
    "\n",
    "Las claves del diccionario como los nombres de las columnas.\n",
    "\n",
    "Las listas como los datos de cada columna.\n",
    "\n",
    "Ha añadido un índice numérico por defecto (0, 1, 2, 3) para las filas.\n",
    "\n"
   ]
  },
  {
   "cell_type": "markdown",
   "id": "cededa92",
   "metadata": {},
   "source": [
    "## Otro ejemplo\n",
    "\n",
    "```python\n",
    "import pandas as pd\n",
    "\n",
    "# Diccionario con información de productos\n",
    "datos_productos = {\n",
    "    'Producto': ['Laptop', 'Mouse', 'Teclado', 'Monitor'],\n",
    "    'Precio': [1200, 25, 75, 300],\n",
    "    'Stock': [50, 200, 150, 30],\n",
    "    'Categoria': ['Electrónica', 'Accesorios', 'Accesorios', 'Electrónica']\n",
    "}\n",
    "\n",
    "# Crear el DataFrame\n",
    "df_productos = pd.DataFrame(datos_productos)\n",
    "\n",
    "# Imprimir el DataFrame\n",
    "print(df_productos)\n",
    "```"
   ]
  },
  {
   "cell_type": "code",
   "execution_count": 11,
   "id": "fd59adb6",
   "metadata": {},
   "outputs": [
    {
     "name": "stdout",
     "output_type": "stream",
     "text": [
      "  Producto  Precio  Stock    Categoria\n",
      "0   Laptop    1200     50  Electrónica\n",
      "1    Mouse      25    200   Accesorios\n",
      "2  Teclado      75    150   Accesorios\n",
      "3  Monitor     300     30  Electrónica\n"
     ]
    }
   ],
   "source": [
    "import pandas as pd\n",
    "\n",
    "# Diccionario con información de productos\n",
    "datos_productos = {\n",
    "    'Producto': ['Laptop', 'Mouse', 'Teclado', 'Monitor'],\n",
    "    'Precio': [1200, 25, 75, 300],\n",
    "    'Stock': [50, 200, 150, 30],\n",
    "    'Categoria': ['Electrónica', 'Accesorios', 'Accesorios', 'Electrónica']\n",
    "}\n",
    "\n",
    "# Crear el DataFrame\n",
    "df_productos = pd.DataFrame(datos_productos)\n",
    "\n",
    "# Imprimir el DataFrame\n",
    "print(df_productos)"
   ]
  },
  {
   "cell_type": "markdown",
   "id": "80a7420b",
   "metadata": {},
   "source": []
  },
  {
   "cell_type": "markdown",
   "id": "263eeeb3",
   "metadata": {},
   "source": [
    "# Data frame a partir de una lista"
   ]
  },
  {
   "cell_type": "code",
   "execution_count": 13,
   "id": "d1ccae9d",
   "metadata": {},
   "outputs": [
    {
     "name": "stdout",
     "output_type": "stream",
     "text": [
      "   Nombre  Edad     Ciudad\n",
      "0     Ana    23     Madrid\n",
      "1    Luis    34  Barcelona\n",
      "2  Carlos    45   Valencia\n"
     ]
    }
   ],
   "source": [
    "import pandas as pd\n",
    "\n",
    "datos = [\n",
    "    ['Ana', 23, 'Madrid'],\n",
    "    ['Luis', 34, 'Barcelona'],\n",
    "    ['Carlos', 45, 'Valencia']\n",
    "]\n",
    "\n",
    "columnas = ['Nombre', 'Edad', 'Ciudad']\n",
    "\n",
    "df = pd.DataFrame(datos, columns=columnas)\n",
    "print(df)\n"
   ]
  },
  {
   "cell_type": "markdown",
   "id": "361304e2",
   "metadata": {},
   "source": [
    "# Data frame a partir de una lista de diccionarios"
   ]
  },
  {
   "cell_type": "code",
   "execution_count": 12,
   "id": "3d38acf8",
   "metadata": {},
   "outputs": [
    {
     "name": "stdout",
     "output_type": "stream",
     "text": [
      "   Nombre  Edad     Ciudad\n",
      "0     Ana    23     Madrid\n",
      "1    Luis    34  Barcelona\n",
      "2  Carlos    45   Valencia\n"
     ]
    }
   ],
   "source": [
    "datos = [\n",
    "    {'Nombre': 'Ana', 'Edad': 23, 'Ciudad': 'Madrid'},\n",
    "    {'Nombre': 'Luis', 'Edad': 34, 'Ciudad': 'Barcelona'},\n",
    "    {'Nombre': 'Carlos', 'Edad': 45, 'Ciudad': 'Valencia'}\n",
    "]\n",
    "\n",
    "df = pd.DataFrame(datos)\n",
    "print(df)\n"
   ]
  },
  {
   "cell_type": "markdown",
   "id": "363d53ce",
   "metadata": {},
   "source": [
    "# Dataframe a patir de una lista simple\n"
   ]
  },
  {
   "cell_type": "code",
   "execution_count": 14,
   "id": "e8dac4e8",
   "metadata": {},
   "outputs": [
    {
     "name": "stdout",
     "output_type": "stream",
     "text": [
      "   Nombre\n",
      "0     Ana\n",
      "1    Luis\n",
      "2  Carlos\n"
     ]
    }
   ],
   "source": [
    "datos = ['Ana', 'Luis', 'Carlos']\n",
    "\n",
    "df = pd.DataFrame(datos, columns=['Nombre'])\n",
    "print(df)\n"
   ]
  },
  {
   "cell_type": "markdown",
   "id": "6af90bb4",
   "metadata": {},
   "source": [
    "# Crear dataframe a partir de un archivo\n",
    "### DataFrame a partir de un archivo CSV\n",
    "\n",
    "```python\n",
    "import pandas as pd\n",
    "\n",
    "# Leer un archivo CSV y crear un DataFrame\n",
    "df = pd.read_csv('archivo.csv')\n",
    "print(df)\n",
    "```\n",
    "\n",
    "### Ejemplo carga el archivo datos.csv"
   ]
  },
  {
   "cell_type": "code",
   "execution_count": 18,
   "id": "28e447ee",
   "metadata": {},
   "outputs": [
    {
     "name": "stdout",
     "output_type": "stream",
     "text": [
      "  Nombre  Edad   Curso  Nota\n",
      "0    Ana    21  Física   6.5\n",
      "1   Luis    22  Física   5.8\n",
      "2  Carla    20  Física   7.2\n",
      "3  Tomás    23  Física   4.9\n"
     ]
    }
   ],
   "source": [
    "import pandas as pd\n",
    "\n",
    "# Cargar el archivo CSV\n",
    "df1 = pd.read_csv('datos.csv')\n",
    "\n",
    "# Mostrar el DataFrame\n",
    "print(df1)"
   ]
  },
  {
   "cell_type": "markdown",
   "id": "03fca542",
   "metadata": {},
   "source": [
    "### DataFrame a partir de un archivo Excel\n",
    "\n",
    "```python\n",
    "import pandas as pd\n",
    "\n",
    "# Leer un archivo Excel y crear un DataFrame\n",
    "df = pd.read_excel('datos.xlsx')\n",
    "print(df)\n",
    "```\n"
   ]
  },
  {
   "cell_type": "code",
   "execution_count": 21,
   "id": "10f22220",
   "metadata": {},
   "outputs": [
    {
     "name": "stdout",
     "output_type": "stream",
     "text": [
      "  Nombre  Edad   Curso  Nota\n",
      "0    Ana    21  Física   6.5\n",
      "1   Luis    22  Física   5.8\n",
      "2  Carla    20  Física   7.2\n",
      "3  Tomás    23  Física   4.9\n"
     ]
    }
   ],
   "source": [
    "import pandas as pd\n",
    "\n",
    "# Leer un archivo Excel y crear un DataFrame\n",
    "df = pd.read_excel('datos.xlsx')\n",
    "print(df)"
   ]
  },
  {
   "cell_type": "markdown",
   "id": "2af69149",
   "metadata": {},
   "source": [
    "## Métodos de dataframes"
   ]
  },
  {
   "cell_type": "markdown",
   "id": "7cc47097",
   "metadata": {},
   "source": [
    "# 📊 Métodos comunes de DataFrames en Pandas (con ejemplos)\n",
    "\n",
    "## 1. `.head(n)`\n",
    "**Muestra las primeras `n` filas del DataFrame.**\n",
    "```python\n",
    "df.head(3)\n",
    "```\n",
    "\n",
    "## 2. `.tail(n)`\n",
    "**Muestra las últimas `n` filas del DataFrame.**\n",
    "```python\n",
    "df.tail(2)\n",
    "```\n",
    "\n",
    "## 3. `.info()`\n",
    "**Muestra un resumen del DataFrame: columnas, tipos de datos, valores no nulos.**\n",
    "```python\n",
    "df.info()\n",
    "```\n",
    "\n",
    "## 4. `.describe()`\n",
    "**Estadísticas básicas (media, desviación, min, max...) de columnas numéricas.**\n",
    "```python\n",
    "df.describe()\n",
    "```\n",
    "\n",
    "## 5. `.shape`\n",
    "**Devuelve una tupla con el número de filas y columnas.**\n",
    "```python\n",
    "df.shape  # (filas, columnas)\n",
    "```\n",
    "\n",
    "## 6. `.columns`\n",
    "**Devuelve el listado de nombres de columnas.**\n",
    "```python\n",
    "df.columns\n",
    "```\n",
    "\n",
    "## 7. `.dtypes`\n",
    "**Devuelve el tipo de datos de cada columna.**\n",
    "```python\n",
    "df.dtypes\n",
    "```\n",
    "\n",
    "## 8. `.isnull()`\n",
    "**Indica con True/False si un valor es nulo.**\n",
    "```python\n",
    "df.isnull()\n",
    "```\n",
    "\n",
    "## 9. `.dropna()`\n",
    "**Elimina filas con valores nulos.**\n",
    "```python\n",
    "df.dropna()\n",
    "```\n",
    "\n",
    "## 10. `.fillna(valor)`\n",
    "**Rellena los valores nulos con `valor`.**\n",
    "```python\n",
    "df.fillna(0)\n",
    "```\n",
    "\n",
    "## 11. `.sort_values(by='col')`\n",
    "**Ordena el DataFrame según una columna.**\n",
    "```python\n",
    "df.sort_values(by='Edad')\n",
    "```\n",
    "\n",
    "## 12. `.groupby('col')`\n",
    "**Agrupa datos por una columna (útil para operaciones estadísticas).**\n",
    "```python\n",
    "df.groupby('Ciudad').mean()\n",
    "```\n",
    "\n",
    "## 13. `.value_counts()`\n",
    "**Cuenta la frecuencia de cada valor en una columna.**\n",
    "```python\n",
    "df['Ciudad'].value_counts()\n",
    "```\n",
    "\n",
    "## 14. `.loc[filas, columnas]`\n",
    "**Accede a filas/columnas por etiqueta.**\n",
    "```python\n",
    "df.loc[0, 'Nombre']  # primer nombre\n",
    "```\n",
    "\n",
    "## 15. `.iloc[fila, columna]`\n",
    "**Accede por posición (índice entero).**\n",
    "```python\n",
    "df.iloc[0, 1]  # valor en fila 0, columna 1\n",
    "```\n",
    "\n",
    "## 16. `.rename(columns={'ViejoNombre': 'NuevoNombre'})`\n",
    "**Renombra columnas.**\n",
    "```python\n",
    "df.rename(columns={'Edad': 'Años'})\n",
    "```\n",
    "\n",
    "## 17. `.drop('col', axis=1)`\n",
    "**Elimina una columna.**\n",
    "```python\n",
    "df.drop('Ciudad', axis=1)\n",
    "```\n",
    "\n",
    "## 18. `.apply(func)`\n",
    "**Aplica una función a cada valor de una columna.**\n",
    "```python\n",
    "df['Edad'].apply(lambda x: x + 1)\n",
    "```\n",
    "\n",
    "## 19. `.astype(tipo)`\n",
    "**Cambia el tipo de datos de una columna.**\n",
    "```python\n",
    "df['Edad'] = df['Edad'].astype(float)\n",
    "```\n",
    "\n",
    "## 20. `.duplicated()`\n",
    "**Detecta filas duplicadas.**\n",
    "```python\n",
    "df.duplicated()\n",
    "```"
   ]
  }
 ],
 "metadata": {
  "kernelspec": {
   "display_name": "base",
   "language": "python",
   "name": "python3"
  },
  "language_info": {
   "codemirror_mode": {
    "name": "ipython",
    "version": 3
   },
   "file_extension": ".py",
   "mimetype": "text/x-python",
   "name": "python",
   "nbconvert_exporter": "python",
   "pygments_lexer": "ipython3",
   "version": "3.12.4"
  }
 },
 "nbformat": 4,
 "nbformat_minor": 5
}
