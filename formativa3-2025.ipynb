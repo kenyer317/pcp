{
 "cells": [
  {
   "cell_type": "markdown",
   "id": "95aff1e8",
   "metadata": {},
   "source": [
    "# Actividad Formativa 3\n",
    "## Itrucciones \n",
    "Desarrolle los siguientes ejercicios creando un programa que resuelva cada planteamiento."
   ]
  },
  {
   "cell_type": "markdown",
   "id": "17ec2a19",
   "metadata": {},
   "source": [
    "# Ejercicio 1\n",
    "Dado un número natural $n\\geq 0$ desarrolla un programa que realice las siguientes acciones:\n",
    "1. crea una función `factorial` que reciba el número $n$ como entrada y retorne su factorial.\n",
    "2. Haciendo uso de la función anterior, crea una función `combinatoria` que reciba dos números naturales $n, m$ con $n\\geq m$ y devuelva el combiantorio de $n, m$ es decir, el número $\\binom{n}{m}$, donde\n",
    "$$\\binom{n}{m}= \\frac{n!}{(n-m)!\\,m!}.$$\n",
    "\n"
   ]
  },
  {
   "cell_type": "markdown",
   "id": "110ae4b4",
   "metadata": {
    "vscode": {
     "languageId": "plaintext"
    }
   },
   "source": [
    "# Ejercicio 2\n",
    "Crea un función que reciba una lista de números como parámetro en imprima en pantalla\n",
    "1. El tamaño de la lista.\n",
    "2. La suma de los números.\n",
    "3. El promedio de los números.\n",
    "4. El mayor de los números.\n",
    "5. El menor de los números.\n",
    "6. La varianza de los números.\n"
   ]
  },
  {
   "cell_type": "markdown",
   "id": "3f412efd",
   "metadata": {
    "vscode": {
     "languageId": "plaintext"
    }
   },
   "source": [
    "# Ejercicio 3\n",
    "Escribe un programa que reciba una palabra como entrada.\n",
    "Crea un diccionario donde:\n",
    " - Las claves sean cada una de las letras únicas presentes en la palabra.\n",
    " - Los valores sean la cantidad de veces que cada letra aparece en la palabra.\n",
    " - Considera que las mayúsculas y minúsculas deben tratarse como la misma letra (por ejemplo, 'A' y 'a' son la misma letra).\n",
    " - Finalmente, imprime en pantalla cada letra junto con su frecuencia, en un formato claro (por ejemplo: \"La letra 'a' aparece 3 veces.\").\n",
    "\n",
    " **Ejemplo:**\n",
    "\n",
    "Si la palabra de entrada es \"Banana\", la salida esperada podría ser similar a:\n",
    "\n",
    "```\n",
    "La letra 'b' aparece 1 vez.\n",
    "La letra 'a' aparece 3 veces.\n",
    "La letra 'n' aparece 2 veces.\n",
    "```"
   ]
  },
  {
   "cell_type": "markdown",
   "id": "c222f7d6",
   "metadata": {
    "vscode": {
     "languageId": "plaintext"
    }
   },
   "source": [
    "# Ejercicio 4: Gestión Básica de Contactos\n",
    "Este ejercicio te desafía a construir un sistema simple para manejar una lista de contactos. Vas a utilizar diccionarios de Python para almacenar y organizar la información de cada persona.\n",
    "\n",
    "Descripción del Problema  \n",
    "Tu tarea es crear un programa que permita a un usuario realizar operaciones básicas sobre una lista de contactos. Cada contacto tendrá un nombre y un número de teléfono. La forma ideal de representar esta información será un diccionario donde el nombre del contacto funcionará como la clave, y su número de teléfono será el valor asociado a esa clave.\n",
    "\n",
    "Así es cómo se verá la estructura de tu diccionario de contactos:\n",
    "```python\n",
    "contactos = {\n",
    "    \"Ana\": \"987654321\",\n",
    "    \"Luis\": \"123456789\",\n",
    "    \"Marta\": \"555112233\",\n",
    "    \"Pedro\": \"999888777\"\n",
    "}\n",
    "```\n",
    "\n",
    "Funcionalidades a Implementar\n",
    "Necesitas desarrollar las siguientes funciones en Python:\n",
    "\n",
    "- `agregar_contacto(directorio, nombre, telefono)`  \n",
    "Esta función toma tu directorio de contactos, el nombre del nuevo contacto (un string) y su telefono (también un string). Debe añadir el nuevo contacto al directorio.\n",
    "Importante: Si el nombre ya existe en el directorio, la función debe imprimir un mensaje informando que el contacto ya está registrado y no debe modificar el número existente.\n",
    "Retorna True si el contacto fue agregado con éxito, y False si ya existía.\n",
    "\n",
    "- `buscar_contacto(directorio, nombre)`  \n",
    "Recibe tu directorio de contactos y el nombre del contacto que quieres buscar (un string).\n",
    "Debe encontrar y devolver el número de teléfono asociado a ese nombre.\n",
    "Si el contacto no se encuentra en el directorio, debe retornar None.\n",
    "\n",
    "- `eliminar_contacto(directorio, nombre)`    \n",
    "Esta función recibe tu directorio de contactos y el nombre del contacto a eliminar (un string).\n",
    "Debe quitar el contacto especificado del directorio.\n",
    "Importante: Si el contacto no existe en el directorio, debe imprimir un mensaje indicando que no se encontró el contacto y no realizar ninguna acción.\n",
    "Retorna True si el contacto fue eliminado, y False si no se encontró.\n",
    "\n",
    "- `listar_contactos(directorio)`  \n",
    "Toma como argumento tu directorio de contactos.\n",
    "Debe imprimir en pantalla todos los contactos actualmente en el directorio, usando un formato claro como: \"Nombre: Teléfono\".\n",
    "Si el directorio no contiene ningún contacto, debe imprimir un mensaje que diga \"El directorio está vacío. No hay contactos para mostrar.\""
   ]
  }
 ],
 "metadata": {
  "language_info": {
   "name": "python"
  }
 },
 "nbformat": 4,
 "nbformat_minor": 5
}
