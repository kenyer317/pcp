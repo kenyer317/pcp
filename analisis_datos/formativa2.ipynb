{
 "cells": [
  {
   "cell_type": "markdown",
   "id": "12d4caa4",
   "metadata": {},
   "source": [
    "# Actividad formativa II de análisis de datos\n",
    "## Descripción General del Dataset de Ventas de Productos Electrónicos\n",
    "\n",
    "Este dataset, denominado `ventas_electronica.csv`, es un conjunto de datos simulado que representa transacciones de venta de una tienda de electrónica. Fue creado específicamente para fines educativos, para proporcionar un escenario realista que incluya datos faltantes y duplicados, permitiendo así una práctica integral en limpieza, manipulación y análisis de datos. No proviene de una fuente real o pública, sino que ha sido confeccionado para replicar las características comunes de un dataset de ventas.\n",
    "\n",
    "## Estructura y Significado de las Columnas\n",
    "\n",
    "El dataset contiene información detallada sobre cada venta realizada. A continuación, se describe cada columna:\n",
    "\n",
    "- `ID_Venta`: Identificador único de cada transacción de venta. Es un número entero. Tipo de Datos Esperado: Numérico (entero).\n",
    "\n",
    "- `Fecha`: La fecha en que se realizó la venta. Tipo de Datos Esperado: Fecha/Hora.\n",
    "\n",
    "- `Producto`: Nombre del producto vendido (e.g., \"Laptop Ultra\", \"Auriculares Bluetooth\"). Tipo de Datos Esperado: Categórico/Texto (string).\n",
    "\n",
    "- `Categoria`: La categoría a la que pertenece el producto (e.g., \"Portátiles\", \"Audio\", \"Smartphones\"). Tipo de Datos Esperado: Categórico/Texto (string).\n",
    "\n",
    "- `Cantidad`: Número de unidades del producto vendidas en esa transacción.Tipo de Datos Esperado: Numérico (entero).\n",
    "\n",
    "- `Precio_Unitario`: El precio de venta original por una sola unidad del producto, antes de aplicar cualquier descuento. Tipo de Datos Esperado: Numérico (flotante).\n",
    "\n",
    "- `Costo_Unitario`: El costo incurrido por la tienda para adquirir una sola unidad de ese producto. Tipo de Datos Esperado: Numérico (flotante).\n",
    "\n",
    "- `Metodo_Pago`: El método utilizado por el cliente para pagar la compra (e.g., \"Tarjeta\", \"Efectivo\", \"Transferencia\"). Tipo de Datos Esperado: Categórico/Texto (string).\n",
    "\n",
    "- `Ciudad_Venta`: La ciudad donde se realizó la venta (e.g., \"Madrid\", \"Barcelona\"). Tipo de Datos Esperado: Categórico/Texto (string).\n",
    "\n",
    "- `Cliente_Edad`: La edad del cliente que realizó la compra. Tipo de Datos Esperado: Numérico (entero).\n",
    "\n",
    "- `Cliente_Genero`: El género del cliente ( \"M\" para masculino, \"F\" para femenino). Tipo de Datos Esperado: Categórico/Texto (string).\n",
    "\n",
    "- `Descuento_Aplicado`: El porcentaje de descuento aplicado a esta venta, expresado como una fracción (e.g., 0.05 para un 5%). Tipo de Datos Esperado: Numérico (flotante).\n",
    "\n",
    "## Objetivo General del Análisis\n",
    "\n",
    "El objetivo principal de analizar este dataset es extraer información valiosa sobre el rendimiento de ventas de la tienda de electrónica, identificar patrones y generar insights que puedan fundamentar decisiones de negocio. Esto incluye:\n",
    "\n",
    "- Limpieza y Preparación de Datos: Practicar la identificación y el manejo de valores faltantes y duplicados, así como la correcta conversión de tipos de datos para asegurar la integridad y usabilidad del dataset.\n",
    "\n",
    "- Cálculo de Métricas Financieras Clave: Derivar métricas esenciales como el ingreso total, el costo total, la ganancia bruta y el margen de ganancia para cada transacción, lo cual es fundamental para evaluar la rentabilidad.\n",
    "\n",
    "- Análisis Descriptivo: Comprender las características generales de las ventas, como la distribución de productos vendidos, los métodos de pago más comunes, y la demografía de los clientes.\n",
    "\n",
    "- Identificación de Tendencias y Patrones: Descubrir patrones de venta a lo largo del tiempo (por ejemplo, tendencias mensuales), identificar las categorías de productos más vendidas o rentables, y entender el comportamiento de compra según la ubicación o las características del cliente.\n",
    "\n",
    "- Generación de Insights Accionables: Utilizar los resultados del análisis para sugerir mejoras en estrategias de marketing, gestión de inventario, optimización de precios o expansión a nuevas ciudades, maximizando así la rentabilidad y la satisfacción del cliente.\n",
    "\n",
    "En resumen, el análisis busca transformar datos brutos de ventas en conocimiento útil para mejorar el desempeño del negocio."
   ]
  },
  {
   "cell_type": "markdown",
   "id": "d74464fa",
   "metadata": {},
   "source": [
    "## Acciones a Realizar con el DataFrame (df_ventas)\n",
    "\n",
    "\n",
    "\n",
    "\n",
    "\n",
    "\n",
    "\n",
    "\n",
    "\n",
    "\n",
    "\n",
    "\n",
    "\n",
    "\n"
   ]
  },
  {
   "cell_type": "markdown",
   "id": "a9410c24",
   "metadata": {},
   "source": [
    "### Parte 1: Exploración y Preparación de Datos"
   ]
  },
  {
   "cell_type": "markdown",
   "id": "50d368ca",
   "metadata": {},
   "source": [
    "1. Carga y Primera Vista:\n",
    "- Carga las librerias pandas y matplotlib en tu entorno de trabajo. \n",
    "- Carga el archivo ventas_electronica.csv en un DataFrame de Pandas llamado df_ventas y muestra las primeras 7 filas."
   ]
  },
  {
   "cell_type": "code",
   "execution_count": null,
   "id": "9932e6ed",
   "metadata": {},
   "outputs": [],
   "source": []
  },
  {
   "cell_type": "markdown",
   "id": "6682a1ca",
   "metadata": {},
   "source": [
    "2. Dimensiones: Imprime el número total de filas y columnas del DataFrame."
   ]
  },
  {
   "cell_type": "code",
   "execution_count": null,
   "id": "90304762",
   "metadata": {},
   "outputs": [],
   "source": []
  },
  {
   "cell_type": "markdown",
   "id": "2e9a5191",
   "metadata": {},
   "source": [
    "3. Tipos de Datos: Muestra los tipos de datos actuales de cada columna. Observa cuáles son de tipo object pero deberían ser numéricos o de fecha.\n"
   ]
  },
  {
   "cell_type": "code",
   "execution_count": null,
   "id": "665aa7f9",
   "metadata": {},
   "outputs": [],
   "source": []
  },
  {
   "cell_type": "markdown",
   "id": "50bb2d27",
   "metadata": {},
   "source": [
    "4. Resumen Descriptivo: Genera un resumen estadístico de las columnas numéricas."
   ]
  },
  {
   "cell_type": "code",
   "execution_count": null,
   "id": "239af2c7",
   "metadata": {},
   "outputs": [],
   "source": []
  },
  {
   "cell_type": "markdown",
   "id": "73c64dde",
   "metadata": {},
   "source": [
    "5. Valores Nulos: Conteo: Cuenta y muestra la cantidad de valores nulos (NaN) en cada columna."
   ]
  },
  {
   "cell_type": "code",
   "execution_count": null,
   "id": "3176c22b",
   "metadata": {},
   "outputs": [],
   "source": []
  },
  {
   "cell_type": "markdown",
   "id": "1379ab2a",
   "metadata": {},
   "source": [
    "6. Valores Nulos: Porcentaje: Calcula y muestra el porcentaje de valores nulos para cada columna."
   ]
  },
  {
   "cell_type": "code",
   "execution_count": null,
   "id": "12f19005",
   "metadata": {},
   "outputs": [],
   "source": []
  },
  {
   "cell_type": "markdown",
   "id": "94462670",
   "metadata": {},
   "source": [
    "7. Manejo de Nulos (Cliente_Edad): Rellena los valores nulos en la columna 'Cliente_Edad' con la mediana de la misma columna. Explica por qué la mediana podría ser mejor que la media en este caso."
   ]
  },
  {
   "cell_type": "code",
   "execution_count": null,
   "id": "b1739c70",
   "metadata": {},
   "outputs": [],
   "source": []
  },
  {
   "cell_type": "markdown",
   "id": "b83e4752",
   "metadata": {},
   "source": [
    "7. Manejo de Nulos (Cliente_Edad): Rellena los valores nulos en la columna 'Cliente_Edad' con la mediana de la misma columna. Explica por qué la mediana podría ser mejor que la media en este caso."
   ]
  },
  {
   "cell_type": "code",
   "execution_count": null,
   "id": "7b8bdeb9",
   "metadata": {},
   "outputs": [],
   "source": []
  },
  {
   "cell_type": "markdown",
   "id": "80646987",
   "metadata": {},
   "source": [
    "8. Manejo de Nulos (Precio/Costo/Descuento): Rellena los valores nulos en 'Precio_Unitario', 'Costo_Unitario' y 'Descuento_Aplicado' con 0. Justifica esta decisión para el contexto de ventas."
   ]
  },
  {
   "cell_type": "code",
   "execution_count": null,
   "id": "cf2cad29",
   "metadata": {},
   "outputs": [],
   "source": []
  },
  {
   "cell_type": "markdown",
   "id": "922107a0",
   "metadata": {},
   "source": [
    "9. Verificación de Nulos: Confirma que ya no hay valores nulos en las columnas 'Cliente_Edad', 'Precio_Unitario', 'Costo_Unitario' y 'Descuento_Aplicado'."
   ]
  },
  {
   "cell_type": "code",
   "execution_count": null,
   "id": "96b139e7",
   "metadata": {},
   "outputs": [],
   "source": []
  },
  {
   "cell_type": "markdown",
   "id": "e4dac416",
   "metadata": {},
   "source": [
    "10. Conversión de Tipo (Fecha): Convierte la columna 'Fecha' a tipo datetime."
   ]
  },
  {
   "cell_type": "code",
   "execution_count": null,
   "id": "0fc55a25",
   "metadata": {},
   "outputs": [],
   "source": []
  },
  {
   "cell_type": "markdown",
   "id": "abfca395",
   "metadata": {},
   "source": [
    "11. Detección de Duplicados: Identifica y muestra cuántas filas están completamente duplicadas en el DataFrame.\n"
   ]
  },
  {
   "cell_type": "code",
   "execution_count": null,
   "id": "b676a50b",
   "metadata": {},
   "outputs": [],
   "source": []
  },
  {
   "cell_type": "markdown",
   "id": "1fb2e8fc",
   "metadata": {},
   "source": [
    "12. Eliminación de Duplicados: Elimina las filas duplicadas, conservando solo la primera ocurrencia. Muestra la nueva cantidad de filas para verificar"
   ]
  },
  {
   "cell_type": "markdown",
   "id": "4e7da6f3",
   "metadata": {
    "vscode": {
     "languageId": "plaintext"
    }
   },
   "source": [
    "### Parte 2: Creación de Columnas Calculadas y Filtrado de Datos"
   ]
  },
  {
   "cell_type": "markdown",
   "id": "105a61bf",
   "metadata": {},
   "source": [
    "13. Cálculo de 'Precio_Venta_Neto': Crea una nueva columna llamada Precio_Venta_Neto. Su valor debe ser el Precio_Unitario ajustado por el Descuento_Aplicado. La fórmula es: Precio_Venta_Neto=Precio_Unitario\n",
    "times(1−Descuento_Aplicado)."
   ]
  },
  {
   "cell_type": "code",
   "execution_count": null,
   "id": "cddc1a0f",
   "metadata": {},
   "outputs": [],
   "source": []
  },
  {
   "cell_type": "markdown",
   "id": "97e9d8cd",
   "metadata": {},
   "source": [
    "14. Cálculo de 'Ingreso_Total_Venta': Crea una columna Ingreso_Total_Venta multiplicando Cantidad por Precio_Venta_Neto."
   ]
  },
  {
   "cell_type": "code",
   "execution_count": null,
   "id": "1b701e4a",
   "metadata": {},
   "outputs": [],
   "source": []
  },
  {
   "cell_type": "markdown",
   "id": "b8ed8fae",
   "metadata": {},
   "source": [
    "15. Cálculo de 'Costo_Total_Venta': Crea una columna Costo_Total_Venta multiplicando Cantidad por Costo_Unitario."
   ]
  },
  {
   "cell_type": "code",
   "execution_count": null,
   "id": "20f13af9",
   "metadata": {},
   "outputs": [],
   "source": []
  },
  {
   "cell_type": "markdown",
   "id": "ac6f508a",
   "metadata": {},
   "source": [
    "16. Cálculo de 'Ganancia_Bruta': Crea una columna Ganancia_Bruta restando Costo_Total_Venta de Ingreso_Total_Venta."
   ]
  },
  {
   "cell_type": "code",
   "execution_count": null,
   "id": "64b01da6",
   "metadata": {},
   "outputs": [],
   "source": []
  },
  {
   "cell_type": "markdown",
   "id": "6a10cb7e",
   "metadata": {},
   "source": [
    "17. Cálculo de 'Margen_Ganancia_Porcentaje': Crea una columna Margen_Ganancia_Porcentaje como \n",
    "left(\n",
    "fracGanancia_BrutaIngreso_Total_Venta\n",
    "right)\n",
    "times100. Asegúrate de manejar la división por cero (si 'Ingreso_Total_Venta' es 0, el margen debe ser 0 o NaN)."
   ]
  },
  {
   "cell_type": "code",
   "execution_count": null,
   "id": "674a0fef",
   "metadata": {},
   "outputs": [],
   "source": []
  },
  {
   "cell_type": "markdown",
   "id": "886265f9",
   "metadata": {},
   "source": [
    "18. Filtrado por Categoría: Filtra el DataFrame para mostrar solo las ventas de la categoría 'Portátiles'."
   ]
  },
  {
   "cell_type": "code",
   "execution_count": null,
   "id": "9eaad2bf",
   "metadata": {},
   "outputs": [],
   "source": []
  },
  {
   "cell_type": "markdown",
   "id": "3ce31404",
   "metadata": {},
   "source": [
    "19. Filtrado por Rango de Fechas: Filtra el DataFrame para incluir solo las ventas realizadas en el segundo trimestre de 2023 (Abril a Junio)."
   ]
  },
  {
   "cell_type": "code",
   "execution_count": null,
   "id": "8d68b910",
   "metadata": {},
   "outputs": [],
   "source": []
  },
  {
   "cell_type": "markdown",
   "id": "0c8c8579",
   "metadata": {},
   "source": [
    "20. Filtrado por Múltiples Condiciones: Muestra las ventas de productos de 'Audio' con una 'Cantidad' mayor a 1 y un 'Metodo_Pago' de 'Efectivo'."
   ]
  },
  {
   "cell_type": "code",
   "execution_count": null,
   "id": "7afc516c",
   "metadata": {},
   "outputs": [],
   "source": []
  },
  {
   "cell_type": "markdown",
   "id": "0047967d",
   "metadata": {},
   "source": [
    "21. Selección con .loc (Filas y Columnas): Selecciona y muestra las 'Fecha', 'Producto', 'Ingreso_Total_Venta' y 'Ganancia_Bruta' para todas las ventas realizadas en 'Barcelona'."
   ]
  },
  {
   "cell_type": "code",
   "execution_count": null,
   "id": "7ef8376d",
   "metadata": {},
   "outputs": [],
   "source": []
  },
  {
   "cell_type": "markdown",
   "id": "876c3194",
   "metadata": {},
   "source": [
    "22. Selección con .iloc (Rango de Filas y Columnas): Utiliza .iloc para seleccionar las filas desde el índice 50 hasta el 100 (sin incluir el 100) y las columnas correspondientes a 'Producto', 'Cantidad' y 'Precio_Unitario'."
   ]
  },
  {
   "cell_type": "code",
   "execution_count": null,
   "id": "c84a29ee",
   "metadata": {},
   "outputs": [],
   "source": []
  },
  {
   "cell_type": "markdown",
   "id": "9b45497c",
   "metadata": {},
   "source": [
    "### Parte 3: Agrupación, Aplicación de Funciones y Visualización"
   ]
  },
  {
   "cell_type": "markdown",
   "id": "be82fd16",
   "metadata": {},
   "source": [
    "23. Ventas Totales por Ciudad: Agrupa los datos por 'Ciudad_Venta' y calcula el 'Ingreso_Total_Venta' y la 'Ganancia_Bruta' sumados para cada ciudad."
   ]
  },
  {
   "cell_type": "code",
   "execution_count": null,
   "id": "67fa721f",
   "metadata": {},
   "outputs": [],
   "source": []
  },
  {
   "cell_type": "markdown",
   "id": "ce264fc5",
   "metadata": {},
   "source": [
    "24. Ganancia Promedio por Categoría y Género: Agrupa por 'Categoria' y 'Cliente_Genero', luego calcula la 'Ganancia_Bruta' promedio para cada combinación."
   ]
  },
  {
   "cell_type": "code",
   "execution_count": null,
   "id": "ed0332ec",
   "metadata": {},
   "outputs": [],
   "source": []
  },
  {
   "cell_type": "markdown",
   "id": "c041f0aa",
   "metadata": {},
   "source": [
    "25. Producto Top por Ingreso: Identifica el producto (columna 'Producto') que ha generado el mayor 'Ingreso_Total_Venta' total."
   ]
  },
  {
   "cell_type": "code",
   "execution_count": null,
   "id": "75edab1d",
   "metadata": {},
   "outputs": [],
   "source": []
  },
  {
   "cell_type": "markdown",
   "id": "6575901e",
   "metadata": {},
   "source": [
    "26. Método de Pago Más Rentable: Determina qué 'Metodo_Pago' tiene el mayor 'Ingreso_Total_Venta' total."
   ]
  },
  {
   "cell_type": "code",
   "execution_count": null,
   "id": "67be3695",
   "metadata": {},
   "outputs": [],
   "source": []
  },
  {
   "cell_type": "markdown",
   "id": "c07a11e1",
   "metadata": {},
   "source": [
    "27. Aplicar Función Personalizada (Segmento de Edad):\n",
    "- Define una función que tome la 'Cliente_Edad' y la clasifique en 'Joven' (menor de 30), 'Adulto' (entre 30 y 50, ambos inclusive) y 'Mayor' (mayor de 50).\n",
    "- Aplica esta función para crear una nueva columna 'Segmento_Edad'.Luego, calcula la 'Ganancia_Bruta' promedio para cada 'Segmento_Edad'."
   ]
  },
  {
   "cell_type": "code",
   "execution_count": null,
   "id": "ad5891de",
   "metadata": {},
   "outputs": [],
   "source": []
  },
  {
   "cell_type": "markdown",
   "id": "cf7b9ffc",
   "metadata": {},
   "source": [
    "28.  Tendencia de Ventas Mensuales:\n",
    "\n",
    "- Extrae el mes de la columna 'Fecha' y crea una nueva columna 'Mes_Venta'.\n",
    "\n",
    "- Agrupa los datos por 'Mes_Venta' y calcula el 'Ingreso_Total_Venta' mensual total.\n",
    "\n",
    "- Muestra esta tendencia."
   ]
  },
  {
   "cell_type": "code",
   "execution_count": null,
   "id": "ad0888e9",
   "metadata": {},
   "outputs": [],
   "source": []
  },
  {
   "cell_type": "markdown",
   "id": "45c06643",
   "metadata": {},
   "source": [
    "29. Diagrama de Dispersión (Edad vs. Ganancia):\n",
    "\n",
    "- Crea un diagrama de dispersión usando Matplotlib para visualizar la relación entre 'Cliente_Edad' y 'Ganancia_Bruta'.\n",
    "\n",
    "- Asegúrate de añadir un título al gráfico, etiquetas a los ejes X e Y, y una leyenda si es necesario. ¿Observas alguna correlación visible?"
   ]
  },
  {
   "cell_type": "code",
   "execution_count": null,
   "id": "e2191c98",
   "metadata": {},
   "outputs": [],
   "source": []
  },
  {
   "cell_type": "markdown",
   "id": "39b6e733",
   "metadata": {},
   "source": [
    "30. Gráfico de Barras (Ingreso por Categoría):\n",
    "\n",
    "- Crea un gráfico de barras utilizando Matplotlib para mostrar el 'Ingreso_Total_Venta' por 'Categoria'.\n",
    "\n",
    "- Ordena las barras de mayor a menor ingreso.\n",
    "\n",
    "- Añade un título al gráfico y etiquetas a los ejes."
   ]
  }
 ],
 "metadata": {
  "kernelspec": {
   "display_name": "base",
   "language": "python",
   "name": "python3"
  },
  "language_info": {
   "codemirror_mode": {
    "name": "ipython",
    "version": 3
   },
   "file_extension": ".py",
   "mimetype": "text/x-python",
   "name": "python",
   "nbconvert_exporter": "python",
   "pygments_lexer": "ipython3",
   "version": "3.12.4"
  }
 },
 "nbformat": 4,
 "nbformat_minor": 5
}
