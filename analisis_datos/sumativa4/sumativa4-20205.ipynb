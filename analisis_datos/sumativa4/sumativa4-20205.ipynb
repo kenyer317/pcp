{
 "cells": [
  {
   "cell_type": "markdown",
   "id": "dadb279a",
   "metadata": {},
   "source": [
    "# Actividades de la prueba sumativa 4"
   ]
  },
  {
   "cell_type": "markdown",
   "id": "ee93e3f4",
   "metadata": {},
   "source": [
    "### 1. Carga de librerias y archivo de datos: (1pto)\n",
    "- Carga la libreria pandas y la libreria matplotlib.pyplot en jupyter.\n",
    "- Carga el archivo de datos \"notas.csv\" y asignale el nombre \"df_notas\" al dataframe."
   ]
  },
  {
   "cell_type": "markdown",
   "id": "30462a57",
   "metadata": {},
   "source": [
    "### 2. Muestra la información del data frame usando el método .info() y un resumen del dataframe usando el método .describe(). (2 pts)"
   ]
  },
  {
   "cell_type": "markdown",
   "id": "f6f519af",
   "metadata": {},
   "source": [
    "### 3. Eliminar las primeras 5 filas del dataframe. (2 ptos)"
   ]
  },
  {
   "cell_type": "markdown",
   "id": "594223b4",
   "metadata": {},
   "source": [
    "### 4. Agregar las columnas \"PP1\", \"PP2\", \"PP3\" y asignarle a PP1 el 20 % de P1, a PP2 el 35 % de P2 y PP3 el 45 % de PP3. (3 ptos)"
   ]
  },
  {
   "cell_type": "markdown",
   "id": "96413fe8",
   "metadata": {},
   "source": [
    "### 5. Agregar las columnas \"PE1\", \"PE2\", \"PE3\" y asignarle a PE1 el 25 % de E1, PE2 el 25 % de E2 y a PE3 el 50 % de E3. (3 ptos)"
   ]
  },
  {
   "cell_type": "markdown",
   "id": "5df0b4ef",
   "metadata": {},
   "source": [
    "### 6. Agregar la columna \"NT\" de nota de teoría, y asignarle el valor de la suma de las columnas PE1, PE2 Y PE3. (2 pts)"
   ]
  },
  {
   "cell_type": "markdown",
   "id": "8ff7d916",
   "metadata": {},
   "source": [
    "### 7. Agregar la columna \"NP\" de nota de práctica y asignarle el valor de la suma de las columnas PP1, PP2 Y PP3. (2 pts)"
   ]
  },
  {
   "cell_type": "markdown",
   "id": "b0b29082",
   "metadata": {},
   "source": [
    "### 8. Agregar la columna \"Nfinal\" de nota final y asignarle el valor de 70 % de NT más el 30 % de NP. (2 pts)"
   ]
  },
  {
   "cell_type": "markdown",
   "id": "47da5786",
   "metadata": {},
   "source": [
    "### 9. Filtrar y mostrar los estudiantes aprobados (nota final superior o igual a 4). (1 pto)"
   ]
  },
  {
   "cell_type": "markdown",
   "id": "b698011d",
   "metadata": {},
   "source": [
    "### 10. Calcula el promedio de los estudiantes aprobados. (2 pts)"
   ]
  },
  {
   "cell_type": "markdown",
   "id": "ada6f3c2",
   "metadata": {},
   "source": [
    "### 11. Filtrar y mostrar los estudiantes reprobados (nota final menor que 4). (2 pts)"
   ]
  },
  {
   "cell_type": "markdown",
   "id": "c9e423c8",
   "metadata": {},
   "source": [
    "### 12. Calcula el promedio de los reprobados. (2 pts)"
   ]
  },
  {
   "cell_type": "markdown",
   "id": "18ffebca",
   "metadata": {},
   "source": [
    "### 13. Calcula el porcentaje de los aprobados. (2 pts)"
   ]
  },
  {
   "cell_type": "markdown",
   "id": "8860d9a0",
   "metadata": {},
   "source": [
    "### 14. Calcula el porcentaje de los reprobados. (2 pts)"
   ]
  },
  {
   "cell_type": "markdown",
   "id": "ae0f731d",
   "metadata": {},
   "source": [
    "### 15. Muestra los estudiantes con nota entre 6 y 7 ambas inclusive. (2 pts)"
   ]
  },
  {
   "cell_type": "markdown",
   "id": "7b9160a9",
   "metadata": {},
   "source": [
    "### 16. Muestra los estudiantes con nota mayor o igual a 4 y menor que 6. (2 pts)"
   ]
  },
  {
   "cell_type": "markdown",
   "id": "b9c71abb",
   "metadata": {},
   "source": [
    "### 17. De los estudiantes aprobados muestra el nombre, apellido y su nota final. (2 pts)"
   ]
  },
  {
   "cell_type": "markdown",
   "id": "f59f06ae",
   "metadata": {},
   "source": [
    "### 18. De los estudiantes reprobados muestra el nombre, apellido y su nota final. (2 pts)"
   ]
  },
  {
   "cell_type": "markdown",
   "id": "a38f35cb",
   "metadata": {},
   "source": [
    "### 19. Agrega al data frame la columnna \"Estatus\", la cual será igual a \"Aprobado\" si la nota final del estudiante es superior o igual a cuatro y sera igual a \"Reprobado\" si la nota final del estudiante es menor que cuatro reprobado. (2 ptos)"
   ]
  },
  {
   "cell_type": "markdown",
   "id": "a22052e0",
   "metadata": {},
   "source": [
    "### 20. Agregar al data frame la columna desempeño, la cual tomará valores según el siguiente criterio (2 ptos)\n",
    "- \"Excelente\" si la nota final es mayor o igual a 6.5 y menor o igual a 7.\n",
    "- \"Muy Bueno\" si la nota final es mayor o igual a 6 y menor que 6.5.\n",
    "- \"Bueno\" si la nota final es mayor o igual a 5 y menor que 6.\n",
    "- \"Aceptable\" si la nota final es mayor o igual a 4 y menor que 5.\n",
    "- \"Insuficiente\" si la nota es menor que 4."
   ]
  },
  {
   "cell_type": "markdown",
   "id": "1c72a6d4",
   "metadata": {},
   "source": []
  }
 ],
 "metadata": {
  "kernelspec": {
   "display_name": "base",
   "language": "python",
   "name": "python3"
  },
  "language_info": {
   "name": "python",
   "version": "3.12.4"
  }
 },
 "nbformat": 4,
 "nbformat_minor": 5
}
