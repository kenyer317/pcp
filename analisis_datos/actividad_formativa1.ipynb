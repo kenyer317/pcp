{
 "cells": [
  {
   "cell_type": "markdown",
   "id": "d93ecf07",
   "metadata": {},
   "source": [
    "# Actividad Formativa 1: Análisis de datos del Titanic\n",
    "En esta actividad, analizaremos el conjunto de datos del Titanic para responder a preguntas sobre la supervivencia de los pasajeros. Utilizaremos Python y bibliotecas como Pandas y Matplotlib para realizar el análisis.\n",
    " \n",
    " ## Objetivos:\n",
    "- Cargar y explorar el conjunto de datos del Titanic.\n",
    "- Realizar análisis descriptivos y cuantitativos sobre la supervivencia de los pasajeros.   \n",
    "\n",
    "## Descripcción del conjunto de datos:\n",
    "El conjunto de datos del Titanic contiene información sobre los pasajeros del famoso transatlántico que se hundió en 1912. Incluye columnas como:\n",
    "\n",
    "- Id_Pasajero: Id de cada pasajero.\n",
    "\n",
    "- Survived: esta característica tiene valor 0 y 1. 0 para no sobrevivió y 1 para sobrevi.\n",
    "\n",
    "- Clase: Hay 3 clases: Clase 1, Clase 2 y Clase 3.\n",
    "\n",
    "- Nombre: Nombre del pasajero.\n",
    "\n",
    "- Sexo: Género del pasajero.\n",
    "\n",
    "- Edad: Edad del pasajero.\n",
    "\n",
    "- Familiares: numero de familiares del pasajero.\n",
    "\n",
    "- Ticket: Número de ticket del pasajero.\n",
    "\n",
    "- Tarifa: Indicando la tarifa.\n",
    "\n",
    "- Cabina: La cabina del pasajero.\n",
    "\n",
    "- Embarcado: La categoría embarcada."
   ]
  },
  {
   "cell_type": "markdown",
   "id": "23e3ef14",
   "metadata": {},
   "source": [
    "### 1. Importa las bibliotecas necesarias: pandas y matplotlib.\n"
   ]
  },
  {
   "cell_type": "markdown",
   "id": "dbf58f4b",
   "metadata": {},
   "source": [
    "### 2. Carga el conjunto de datos del Titanic y asignale el nombre `titanic`."
   ]
  },
  {
   "cell_type": "markdown",
   "id": "fc697e69",
   "metadata": {},
   "source": [
    "### 3. Muestra las primeras 5 filas del conjunto de datos."
   ]
  },
  {
   "cell_type": "markdown",
   "id": "681d4593",
   "metadata": {},
   "source": []
  },
  {
   "cell_type": "markdown",
   "id": "3316fff9",
   "metadata": {},
   "source": [
    "### 4. Muestra las 10 útimas filas del conjunto de datos."
   ]
  },
  {
   "cell_type": "markdown",
   "id": "a8e82ff7",
   "metadata": {},
   "source": [
    "### 5. Muestra la información general del conjunto de datos."
   ]
  },
  {
   "cell_type": "markdown",
   "id": "13d8da56",
   "metadata": {},
   "source": [
    "### 6. ¿Cuántas filas hay en total?.\n"
   ]
  },
  {
   "cell_type": "markdown",
   "id": "51172359",
   "metadata": {},
   "source": [
    "### 7. ¿Cuántas columnnas hay en total?."
   ]
  },
  {
   "cell_type": "markdown",
   "id": "d566cd95",
   "metadata": {},
   "source": [
    "### 8. Muestra las columnnas del dataframe."
   ]
  },
  {
   "cell_type": "markdown",
   "id": "4d7ba199",
   "metadata": {},
   "source": [
    "### 9. Muestra sólo los datos de los hombres y nombra a este nuevo dataframe hombres."
   ]
  },
  {
   "cell_type": "markdown",
   "id": "5bddd36f",
   "metadata": {},
   "source": [
    "### 10. Muestra sólo los datos de las mujeres y nombra a este nuevo dataframe mujeres."
   ]
  },
  {
   "cell_type": "markdown",
   "id": "51f3de7d",
   "metadata": {},
   "source": [
    "### 11. Muestra sólo los datos de las peronas menores de 18 años."
   ]
  },
  {
   "cell_type": "markdown",
   "id": "3c595c25",
   "metadata": {},
   "source": [
    "### 12. Calcula la edad promedio de los pasajeros."
   ]
  },
  {
   "cell_type": "markdown",
   "id": "a370ed1d",
   "metadata": {},
   "source": [
    "### 13. Calcula la edad promedio de los pasajeros."
   ]
  },
  {
   "cell_type": "markdown",
   "id": "30213b1c",
   "metadata": {},
   "source": [
    "### 14. Muestra los datos de las personas de las clases 1 y 2."
   ]
  },
  {
   "cell_type": "markdown",
   "id": "a3980974",
   "metadata": {},
   "source": [
    "### 15. Muestra los datos de las personas que registraron su edad al abordar."
   ]
  },
  {
   "cell_type": "markdown",
   "id": "a8445f08",
   "metadata": {},
   "source": [
    "### 16. Muestra los nombre de los pasajeros mayores de 30 años que sobrevivieron al naufragio."
   ]
  },
  {
   "cell_type": "markdown",
   "id": "254b7e6c",
   "metadata": {},
   "source": [
    "### 17.  Calcula el promedio de edad de los pasajeron que sobrevivieron."
   ]
  },
  {
   "cell_type": "markdown",
   "id": "84b4a9de",
   "metadata": {},
   "source": [
    "### 18. Agrupa los datos por sexo y calcula la edad promedio de cada grupo."
   ]
  },
  {
   "cell_type": "markdown",
   "id": "30380fa7",
   "metadata": {},
   "source": [
    "### 19.  Agrupa los datos por clase y calcula  el promedio de edad de los pasajeros en cada clase."
   ]
  },
  {
   "cell_type": "markdown",
   "id": "a6125449",
   "metadata": {},
   "source": [
    "### 20. ¿Cuántos pasajeros no registraron su edad?. ¿Cuántos de ellos sobrevieron?."
   ]
  },
  {
   "cell_type": "markdown",
   "id": "0cd5ca25",
   "metadata": {},
   "source": [
    "### 21. ¿Cuál fue la edad máxima y mínima de los pasajeros que no sobrevivieron?"
   ]
  },
  {
   "cell_type": "markdown",
   "id": "02565239",
   "metadata": {},
   "source": [
    "### 22. ¿Cuál fue la edad máxima y mínima de los pasajeros que sobrevivieron?"
   ]
  },
  {
   "cell_type": "markdown",
   "id": "f9fb73dd",
   "metadata": {},
   "source": [
    "23. ### ¿Cuál fue el porcentaje de supervivencia de los pasajeros del Titanic?"
   ]
  },
  {
   "cell_type": "markdown",
   "id": "641f7cf5",
   "metadata": {},
   "source": [
    "### 24.  Construye la gráfica de dispersion de `edad` y `tarifa`."
   ]
  },
  {
   "cell_type": "markdown",
   "id": "f07acfcb",
   "metadata": {},
   "source": [
    "### 25. Elimina las filas que tienen datos faltantes en las columnas `edad` y `tarifa`."
   ]
  }
 ],
 "metadata": {
  "kernelspec": {
   "display_name": "base",
   "language": "python",
   "name": "python3"
  },
  "language_info": {
   "codemirror_mode": {
    "name": "ipython",
    "version": 3
   },
   "file_extension": ".py",
   "mimetype": "text/x-python",
   "name": "python",
   "nbconvert_exporter": "python",
   "pygments_lexer": "ipython3",
   "version": "3.12.4"
  }
 },
 "nbformat": 4,
 "nbformat_minor": 5
}
