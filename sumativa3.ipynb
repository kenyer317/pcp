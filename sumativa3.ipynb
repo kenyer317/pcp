{
 "cells": [
  {
   "cell_type": "markdown",
   "id": "8720eb70",
   "metadata": {},
   "source": []
  },
  {
   "cell_type": "markdown",
   "id": "766b063a",
   "metadata": {},
   "source": [
    "# Ejercicio 1\n",
    "1. Función **`factorial`**  \n",
    "    Escribe una función llamada `factorial` que acepte un número entero n como argumento. Esta función debe calcular y retornar el factorial de $n$ es decir $n!$, donde\n",
    "    $$n = \\begin{cases}\n",
    "    1 \\text{ si } n=0, 1.\\\\\n",
    "    n\\times (n-1)\\cdots\\times 2\\times 1.\n",
    "    \\end{cases} $$\n",
    "\n",
    "    ```python\n",
    "    assert factorial(2) == 2\n",
    "    assert factorial(5) == 120 \n",
    "    assert factorial(0) == 1 \n",
    "    assert factorial(1) == 1\n",
    "    assert factorial(6) == 720 \n",
    "    assert factorial(-1) == None  \n",
    "    ```\n",
    "\n",
    "2. Función ``combinatoria``  \n",
    "        Utilizando la función factorial que definiste en el punto anterior, crea una nueva función llamada ``combinatoria``. Esta función debe recibir dos números enteros $n$ y $m$ como argumentos, asumiendo que $(n\\geq m\\geq 0)$. La función debe calcular y retornar el coeficiente combinatorio $\\binom{n}{m}$ donde usando la siguiente fórmula\n",
    "\n",
    "    $$\\binom{n}{m}=\\frac{n!}{(n-m)!m!}.$$\n",
    "3. Usando la función combinatoria que desarrollaste en el item anterior, calcular siguiente suma e imprime su valor en pantalla\n",
    "    $$\\binom{20}{0}+\\binom{20}{1}+\\cdots+\\binom{20}{19}+\\binom{20}{20}.$$\n"
   ]
  },
  {
   "cell_type": "markdown",
   "id": "2f7a884c",
   "metadata": {},
   "source": [
    "# Ejercicio 2\n",
    "Dadas dos tuplas de números reales $tupla_1=(a_1,a_2,\\ldots, a_n), tupla_2=(b_1,b_2,\\ldots, b_n) $ de igual tamaño. Se pide:\n",
    "1. Escribir una función `suma_tuplas()` que reciba ambas tuplas y retorne una tupla que contiene en cada posición la suma de los números de las tuplas en esa posición, es decir\n",
    "$$(a_1+b_1, a_2+b_2, \\ldots, a_n+b_n).$$\n",
    "2. Escribir una función `producto_tuplas()` que reciba ambas tuplas y retorne una tupla que contiene en cada posición la multiplicación de los números de las tuplas en esa posición, es decir \n",
    "$$(a_1\\cdot b_1, a_2\\cdot b_2, \\ldots, a_n\\cdot b_n).$$\n",
    "3. Escribir una función `producto_escalar()` que reciba ambas tuplas y devuelva el producto escalar de ambas tuplas, es decir\n",
    "$$a_1\\cdot b_1 + a_2\\cdot b_2 + a_n + b_n.$$\n",
    "4. Calcule el producto escalar de las siguientes tuplas $(3, -2, 5, 7, 10), (0, 4, 1, -6, 5)$ y muestre su valor por pantalla."
   ]
  },
  {
   "cell_type": "markdown",
   "id": "d04a0642",
   "metadata": {},
   "source": [
    "Ejercicio 2\n",
    "1. Crear una función `cuenta_frecuencia` que reciba como parámetro una **lista** de palabras y devuelva un diccionario que tenga como claves las palabras que no se repiten y como valor la frecuencia de la palabra.\n",
    "2. Con la finalidad de determinar los nombre más comunes en un colegio de cierta localidad, se procede a preguntar el primer nombre a cada estudiante y se guardan en una lista llamada nombres. De igual manera se procede a recolectar el primer apellido a cada estudiante y se guardan en una lista llamada apellidos. \n",
    "    ```python\n",
    "       nombres = ['Mateo', 'Agustina', 'Agustín', 'Diego', 'Emilia', 'Valentina', 'Josefa', 'Benjamín', 'Martina', 'Agustina', 'Martín', 'Vicente', 'Tomás', 'Benjamín', 'Catalina', 'Emilia', 'Florencia', 'Benjamín', 'Joaquín', 'Isidora', 'Sofía', 'Antonia', 'Mateo', 'Florencia', 'Benjamín', 'Martina', 'Benjamín', 'Sofía', 'Benjamín', 'Mateo', 'Lucas', 'Joaquín', 'Benjamín', 'Josefa', 'Benjamín', 'Benjamín', 'Martín', 'Agustina', 'Emilia', 'Tomás', 'Benjamín', 'Isidora', 'Antonia', 'Benjamín', 'Vicente', 'Martina', 'Matías', 'Mateo', 'Benjamín', 'Valentina', 'Benjamín', 'Mateo', 'Diego', 'Catalina', 'Sofía', 'Agustina', 'Benjamín', 'Florencia', 'Mateo', 'Lucas', 'Antonia', 'Benjamín', 'Isidora', 'Martina', 'Catalina', 'Josefa', 'Vicente', 'Emilia', 'Tomás', 'Martín', 'Agustín', 'Benjamín', 'Benjamín', 'Florencia', 'Antonia', 'Mateo', 'Sofía', 'Isidora', 'Diego', 'Josefa', 'Valentina', 'Joaquín', 'Martina', 'Matías', 'Lucas', 'Agustín', 'Catalina', 'Agustina', 'Emilia', 'Valentina', 'Joaquín', 'Matías', 'Vicente', 'Tomás', 'Martín', 'Diego', 'Mateo', 'Lucas']\n",
    "\n",
    "       apellidos = ['Martínez', 'López', 'Rojas', 'Díaz', 'Contreras', 'Soto', 'Rodríguez', 'González', 'Pérez', 'Silva', 'González', 'González', 'Hernández', 'Soto', 'González', 'Silva', 'Muñoz', 'Morales', 'Pérez', 'Rodríguez', 'Sepúlveda', 'Silva', 'González', 'González', 'Contreras', 'Hernández', 'Muñoz', 'Díaz', 'Torres', 'López', 'González', 'González', 'Morales', 'Rojas', 'Pérez', 'Soto', 'González', 'Hernández', 'Silva', 'Contreras', 'Rodríguez', 'González', 'Díaz', 'Sepúlveda', 'Muñoz', 'Torres', 'Fuentes', 'Martínez', 'Contreras', 'González', 'Pérez', 'González', 'Muñoz', 'González', 'Rodríguez', 'Sepúlveda', 'Silva', 'Hernández', 'Martínez', 'Soto', 'López', 'González', 'Rojas', 'Díaz', 'Muñoz', 'Torres', 'González', 'Sepúlveda', 'Fuentes', 'González', 'Morales', 'Contreras', 'Rojas', 'González', 'González', 'López', 'Rodríguez', 'Martínez', 'Díaz', 'Soto', 'Fuentes', 'Hernández', 'Pérez', 'Torres', 'Muñoz', 'Sepúlveda', 'Morales', 'Silva', 'Contreras', 'Rodríguez', 'Díaz', 'Martínez', 'Fuentes', 'López', 'Rojas', 'Morales', 'Sepúlveda', 'Pérez', 'Torres']\n",
    "\n",
    "\n",
    "    ```\n",
    "\n",
    "    Usar la función anterior para hallar el nombre más común y el apellido más común y mostrarlos en pantalla con el siguiente formato\n",
    "    ```\n",
    "    El nombre más común es:   _______\n",
    "    El apellido más común es: _______\n",
    "    ```\n"
   ]
  },
  {
   "cell_type": "code",
   "execution_count": null,
   "id": "6b188562",
   "metadata": {},
   "outputs": [
    {
     "data": {
      "text/plain": [
       "['d']"
      ]
     },
     "execution_count": 20,
     "metadata": {},
     "output_type": "execute_result"
    }
   ],
   "source": [
    "def frecuencia(lista : list) -> dict:\n",
    "    claves = set(lista)\n",
    "    mi_dic = {}\n",
    "    for x in lista:\n",
    "        mi_dic[x] = lista.count(x)\n",
    "    return mi_dic\n",
    "dic = {\"a\":2, \"b\":3, \"c\":4, \"d\":6}\n",
    "valor = max(dic.values())\n",
    "var = [key for key in dic.keys() if dic[key] == valor ]\n",
    "var \n"
   ]
  },
  {
   "cell_type": "markdown",
   "id": "d2afa379",
   "metadata": {},
   "source": [
    "Ejercicio 2: Conteo de Frecuencias en Listas\n",
    "En este ejercicio, desarrollarás una función para contar la frecuencia de elementos en una lista y la aplicarás a listas de nombres y apellidos para identificar los más comunes.\n",
    "\n",
    "Parte 1: Creación de la Función cuenta_frecuencia\n",
    "Crea una función llamada cuenta_frecuencia que cumpla con los siguientes requisitos:\n",
    "Debe recibir como parámetro una lista de palabras (cadenas de texto).\n",
    "Debe devolver un diccionario. Las claves de este diccionario serán las palabras únicas encontradas en la lista, y los valores serán la frecuencia (el número de veces que cada palabra se repite) de esa palabra en la lista.\n",
    "Parte 2: Aplicación a Nombres y Apellidos\n",
    "Se te proporcionan las siguientes listas de nombres y apellidos, recolectadas en un colegio para determinar los nombres y apellidos más comunes:\n",
    "\n",
    "Python\n",
    "\n",
    "nombres = ['Mateo', 'Agustina', 'Agustín', 'Diego', 'Emilia', 'Valentina', 'Josefa', 'Benjamín', 'Martina', 'Agustina', 'Martín', 'Vicente', 'Tomás', 'Benjamín', 'Catalina', 'Emilia', 'Florencia', 'Benjamín', 'Joaquín', 'Isidora', 'Sofía', 'Antonia', 'Mateo', 'Florencia', 'Benjamín', 'Martina', 'Benjamín', 'Sofía', 'Benjamín', 'Mateo', 'Lucas', 'Joaquín', 'Benjamín', 'Josefa', 'Benjamín', 'Benjamín', 'Martín', 'Agustina', 'Emilia', 'Tomás', 'Benjamín', 'Isidora', 'Antonia', 'Benjamín', 'Vicente', 'Martina', 'Matías', 'Mateo', 'Benjamín', 'Valentina', 'Benjamín', 'Mateo', 'Diego', 'Catalina', 'Sofía', 'Agustina', 'Benjamín', 'Florencia', 'Mateo', 'Lucas', 'Antonia', 'Benjamín', 'Isidora', 'Martina', 'Catalina', 'Josefa', 'Vicente', 'Emilia', 'Tomás', 'Martín', 'Agustín', 'Benjamín', 'Benjamín', 'Florencia', 'Antonia', 'Mateo', 'Sofía', 'Isidora', 'Diego', 'Josefa', 'Valentina', 'Joaquín', 'Martina', 'Matías', 'Lucas', 'Agustín', 'Catalina', 'Agustina', 'Emilia', 'Valentina', 'Joaquín', 'Matías', 'Vicente', 'Tomás', 'Martín', 'Diego', 'Mateo', 'Lucas']\n",
    "\n",
    "apellidos = ['Martínez', 'López', 'Rojas', 'Díaz', 'Contreras', 'Soto', 'Rodríguez', 'González', 'Pérez', 'Silva', 'González', 'González', 'Hernández', 'Soto', 'González', 'Silva', 'Muñoz', 'Morales', 'Pérez', 'Rodríguez', 'Sepúlveda', 'Silva', 'González', 'González', 'Contreras', 'Hernández', 'Muñoz', 'Díaz', 'Torres', 'López', 'González', 'González', 'Morales', 'Rojas', 'Pérez', 'Soto', 'González', 'Hernández', 'Silva', 'Contreras', 'Rodríguez', 'González', 'Díaz', 'Sepúlveda', 'Muñoz', 'Torres', 'Fuentes', 'Martínez', 'Contreras', 'González', 'Pérez', 'González', 'Muñoz', 'González', 'Rodríguez', 'Sepúlveda', 'Silva', 'Hernández', 'Martínez', 'Soto', 'López', 'González', 'Rojas', 'Díaz', 'Muñoz', 'Torres', 'González', 'Sepúlveda', 'Fuentes', 'González', 'Morales', 'Contreras', 'Rojas', 'González', 'González', 'López', 'Rodríguez', 'Martínez', 'Díaz', 'Soto', 'Fuentes', 'Hernández', 'Pérez', 'Torres', 'Muñoz', 'Sepúlveda', 'Morales', 'Silva', 'Contreras', 'Rodríguez', 'Díaz', 'Martínez', 'Fuentes', 'López', 'Rojas', 'Morales', 'Sepúlveda', 'Pérez', 'Torres']\n",
    "Instrucciones:\n",
    "\n",
    "Utiliza la función cuenta_frecuencia que creaste en la Parte 1 con las listas nombres y apellidos para obtener sus respectivos diccionarios de frecuencia.\n",
    "\n",
    "A partir de estos diccionarios, encuentra el nombre y el apellido con la mayor frecuencia.\n",
    "\n",
    "Muestra los resultados en pantalla utilizando el siguiente formato:\n",
    "\n",
    "El nombre más común es: ________\n",
    "El apellido más común es: _______"
   ]
  }
 ],
 "metadata": {
  "kernelspec": {
   "display_name": "base",
   "language": "python",
   "name": "python3"
  },
  "language_info": {
   "codemirror_mode": {
    "name": "ipython",
    "version": 3
   },
   "file_extension": ".py",
   "mimetype": "text/x-python",
   "name": "python",
   "nbconvert_exporter": "python",
   "pygments_lexer": "ipython3",
   "version": "3.12.4"
  }
 },
 "nbformat": 4,
 "nbformat_minor": 5
}
