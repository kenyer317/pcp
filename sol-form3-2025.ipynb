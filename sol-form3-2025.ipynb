{
 "cells": [
  {
   "cell_type": "markdown",
   "id": "6d2f4549",
   "metadata": {},
   "source": [
    "# Ejercicio 1\n",
    "Dado un número natural $n\\geq 0$ desarrolla un programa que realice las siguientes acciones:\n",
    "1. crea una función `factorial` que reciba el número $n$ como entrada y retorne su factorial.\n",
    "2. Haciendo uso de la función anterior, crea una función `combinatoria` que reciba dos números naturales $n, m$ con $n\\geq m$ y devuelva el combiantorio de $n, m$ es decir, el número $\\binom{n}{m}$, donde\n",
    "$$\\binom{n}{m}= \\frac{n!}{(n-m)!\\,m!}.$$"
   ]
  },
  {
   "cell_type": "code",
   "execution_count": null,
   "id": "a692e58d",
   "metadata": {},
   "outputs": [
    {
     "data": {
      "text/plain": [
       "10.0"
      ]
     },
     "execution_count": 71,
     "metadata": {},
     "output_type": "execute_result"
    }
   ],
   "source": [
    "# Función factorial\n",
    "def factorial(n):\n",
    "    if n< 0:\n",
    "        print(\"No se puede calcular\")\n",
    "    elif n == 0 or n == 1:\n",
    "        return 1\n",
    "    else:\n",
    "        res = 1\n",
    "        for i in range(1, n+1):\n",
    "            res = res * i\n",
    "        return res\n",
    "    \n",
    "\n",
    "# Función combinatoria\n",
    "\n",
    "def combinatoria(n,m):\n",
    "    if n < m:\n",
    "        print(\"No se puede calcular\")\n",
    "    else:\n",
    "        res = factorial(n)/(factorial(n-m)*factorial(m))\n",
    "        return res\n"
   ]
  },
  {
   "cell_type": "markdown",
   "id": "7f237f78",
   "metadata": {},
   "source": [
    "#  Ejercicio 2\n",
    "Crea un función que reciba una lista de números como parámetro en imprima en pantalla\n",
    "1. El tamaño de la lista.\n",
    "2. La suma de los números.\n",
    "3. El promedio de los números.\n",
    "4. El mayor de los números.\n",
    "5. El menor de los números.\n",
    "6. La varianza de los números.\n",
    "\n"
   ]
  },
  {
   "cell_type": "code",
   "execution_count": 77,
   "id": "0d219c16",
   "metadata": {},
   "outputs": [
    {
     "name": "stdout",
     "output_type": "stream",
     "text": [
      "Tamaño de la lista: 5\n",
      "Suma: 15\n",
      "Promedio: 3.0\n",
      "Mayor: 5\n",
      "Menor: 1\n",
      "Varianza: 2.0\n"
     ]
    }
   ],
   "source": [
    "def resumen(lista):\n",
    "    if not lista:\n",
    "        print(\"Lista vacía\")\n",
    "    else:\n",
    "        longitud = len(lista)\n",
    "        suma = sum(lista)\n",
    "        promedio = suma/longitud \n",
    "        mayor = max(lista)\n",
    "        menor = min(lista)\n",
    "        # Calculo de la varianza\n",
    "        # lista auxiliar para calcular las desviaciones cuadráticas\n",
    "        lista_aux =  [(x-promedio)**2 for x in lista]\n",
    "        varianza = sum(lista_aux)/longitud \n",
    "\n",
    "        # Imprimimos ahora todo lo pedid\n",
    "        print(f\"Tamaño de la lista: {longitud}\")\n",
    "        print(f\"Suma: {suma}\")\n",
    "        print(f\"Promedio: {promedio}\")\n",
    "        print(f\"Mayor: {mayor}\")\n",
    "        print(f\"Menor: {menor}\")\n",
    "        print(f\"Varianza: {varianza}\")\n",
    "\n",
    "# Probando la función\n",
    "resumen([1, 2, 3,4, 5])\n"
   ]
  },
  {
   "cell_type": "markdown",
   "id": "af4893b5",
   "metadata": {},
   "source": [
    "# Ejercicio 3\n",
    "Escribe un programa que reciba una palabra como entrada.\n",
    "Crea un diccionario donde:\n",
    " - Las claves sean cada una de las letras únicas presentes en la palabra.\n",
    " - Los valores sean la cantidad de veces que cada letra aparece en la palabra.\n",
    " - Considera que las mayúsculas y minúsculas deben tratarse como la misma letra (por ejemplo, 'A' y 'a' son la misma letra).\n",
    " - Finalmente, imprime en pantalla cada letra junto con su frecuencia, en un formato claro (por ejemplo: \"La letra 'a' aparece 3 veces.\").\n",
    "\n",
    " **Ejemplo:**\n",
    "\n",
    "Si la palabra de entrada es \"Banana\", la salida esperada podría ser similar a:\n",
    "\n",
    "```\n",
    "La letra 'b' aparece 1 vez.\n",
    "La letra 'a' aparece 3 veces.\n",
    "La letra 'n' aparece 2 veces.\n",
    "```"
   ]
  },
  {
   "cell_type": "code",
   "execution_count": 81,
   "id": "e899fe57",
   "metadata": {},
   "outputs": [
    {
     "data": {
      "text/plain": [
       "{'a': 3, 'b': 1, 'n': 2}"
      ]
     },
     "execution_count": 81,
     "metadata": {},
     "output_type": "execute_result"
    }
   ],
   "source": [
    "def frecuencias(palabra):\n",
    "    # Pasamos la palabra a minúsculas\n",
    "    palabra = palabra.lower()\n",
    "    # Hallamos las letras no repetidas,\n",
    "    # Estas letras serán las claves del diccionario\n",
    "    claves = set(palabra)\n",
    "    # Creamos un diccionario vacío para almacenar las frcuencias de cada letra\n",
    "    mi_dic = {}\n",
    "    # Recorremos cada letra de las claves y contamos cuantas veces aparece en la palabra\n",
    "    for letra in claves:\n",
    "        mi_dic[letra] = palabra.count(letra)\n",
    "\n",
    "    return mi_dic\n",
    "        \n",
    "# Probamos la función\n",
    "frecuencias(\"BANANA\")"
   ]
  },
  {
   "cell_type": "markdown",
   "id": "bd899b53",
   "metadata": {},
   "source": [
    "## Ejercicio 4: Gestión Básica de Contactos\n",
    "Este ejercicio te desafía a construir un sistema simple para manejar una lista de contactos. Vas a utilizar diccionarios de Python para almacenar y organizar la información de cada persona.\n",
    "\n",
    "Descripción del Problema  \n",
    "Tu tarea es crear un programa que permita a un usuario realizar operaciones básicas sobre una lista de contactos. Cada contacto tendrá un nombre y un número de teléfono. La forma ideal de representar esta información será un diccionario donde el nombre del contacto funcionará como la clave, y su número de teléfono será el valor asociado a esa clave.\n",
    "\n",
    "Así es cómo se verá la estructura de tu diccionario de contactos:\n",
    "```python\n",
    "contactos = {\n",
    "    \"Ana\": \"987654321\",\n",
    "    \"Luis\": \"123456789\",\n",
    "    \"Marta\": \"555112233\",\n",
    "    \"Pedro\": \"999888777\"\n",
    "}\n",
    "```\n",
    "\n",
    "Funcionalidades a Implementar\n",
    "Necesitas desarrollar las siguientes funciones en Python:\n",
    "\n",
    "- `agregar_contacto(directorio, nombre, telefono)`  \n",
    "Esta función toma tu directorio de contactos, el nombre del nuevo contacto (un string) y su telefono (también un string). Debe añadir el nuevo contacto al directorio.\n",
    "Importante: Si el nombre ya existe en el directorio, la función debe imprimir un mensaje informando que el contacto ya está registrado y no debe modificar el número existente.\n",
    "Retorna True si el contacto fue agregado con éxito, y False si ya existía.\n",
    "\n",
    "- `buscar_contacto(directorio, nombre)`  \n",
    "Recibe tu directorio de contactos y el nombre del contacto que quieres buscar (un string).\n",
    "Debe encontrar y devolver el número de teléfono asociado a ese nombre.\n",
    "Si el contacto no se encuentra en el directorio, debe retornar None.\n",
    "\n",
    "- `eliminar_contacto(directorio, nombre)`    \n",
    "Esta función recibe tu directorio de contactos y el nombre del contacto a eliminar (un string).\n",
    "Debe quitar el contacto especificado del directorio.\n",
    "Importante: Si el contacto no existe en el directorio, debe imprimir un mensaje indicando que no se encontró el contacto y no realizar ninguna acción.\n",
    "Retorna True si el contacto fue eliminado, y False si no se encontró.\n",
    "\n",
    "- `listar_contactos(directorio)`  \n",
    "Toma como argumento tu directorio de contactos.\n",
    "Debe imprimir en pantalla todos los contactos actualmente en el directorio, usando un formato claro como: \"Nombre: Teléfono\".\n",
    "Si el directorio no contiene ningún contacto, debe imprimir un mensaje que diga \"El directorio está vacío. No hay contactos para mostrar.\""
   ]
  },
  {
   "cell_type": "code",
   "execution_count": 57,
   "id": "f1ddf928",
   "metadata": {},
   "outputs": [
    {
     "data": {
      "text/plain": [
       "{}"
      ]
     },
     "execution_count": 57,
     "metadata": {},
     "output_type": "execute_result"
    }
   ],
   "source": [
    "# Solución \n",
    "\n",
    "# Creamos el diccionario para guardar los contactos\n",
    "contactos = {}\n",
    "\n",
    "# función para agregar contacto\n",
    "\n",
    "def agregar_contacto(directorio, nombre, telefono):\n",
    "    if nombre in directorio:\n",
    "        print(\"Operación inválida. Este contacto ya existe en sus contactos\")\n",
    "        return False\n",
    "    else:\n",
    "        directorio[nombre] = telefono\n",
    "        return True\n",
    "\n",
    "# función para buscar contacto\n",
    "\n",
    "def buscar_contacto(directorio, nombre):\n",
    "    if nombre in directorio:\n",
    "        return directorio[nombre]\n",
    "    else:\n",
    "        return None\n",
    "\n",
    "# Función para eliminar contactos\n",
    "\n",
    "def eliminar_contacto(directorio, nombre):\n",
    "    if nombre in directorio:\n",
    "        del directorio[nombre]\n",
    "        return True\n",
    "    else:\n",
    "        return None\n",
    "\n",
    "# Función para listar contactos\n",
    "\n",
    "def listar_contactos(directorio):\n",
    "    if not directorio:\n",
    "        print(\"El directorio está vacío\")\n",
    "    else:\n",
    "        for key in directorio:\n",
    "            print(f\"{key} : {directorio[key]}\")\n",
    "\n",
    "contactos     "
   ]
  }
 ],
 "metadata": {
  "kernelspec": {
   "display_name": "base",
   "language": "python",
   "name": "python3"
  },
  "language_info": {
   "codemirror_mode": {
    "name": "ipython",
    "version": 3
   },
   "file_extension": ".py",
   "mimetype": "text/x-python",
   "name": "python",
   "nbconvert_exporter": "python",
   "pygments_lexer": "ipython3",
   "version": "3.12.4"
  }
 },
 "nbformat": 4,
 "nbformat_minor": 5
}
