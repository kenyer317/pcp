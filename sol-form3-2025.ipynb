{
 "cells": [
  {
   "cell_type": "markdown",
   "id": "bd899b53",
   "metadata": {},
   "source": [
    "# Ejercicio 4: Gestión Básica de Contactos\n",
    "Este ejercicio te desafía a construir un sistema simple para manejar una lista de contactos. Vas a utilizar diccionarios de Python para almacenar y organizar la información de cada persona.\n",
    "\n",
    "Descripción del Problema  \n",
    "Tu tarea es crear un programa que permita a un usuario realizar operaciones básicas sobre una lista de contactos. Cada contacto tendrá un nombre y un número de teléfono. La forma ideal de representar esta información será un diccionario donde el nombre del contacto funcionará como la clave, y su número de teléfono será el valor asociado a esa clave.\n",
    "\n",
    "Así es cómo se verá la estructura de tu diccionario de contactos:\n",
    "```python\n",
    "contactos = {\n",
    "    \"Ana\": \"987654321\",\n",
    "    \"Luis\": \"123456789\",\n",
    "    \"Marta\": \"555112233\",\n",
    "    \"Pedro\": \"999888777\"\n",
    "}\n",
    "```\n",
    "\n",
    "Funcionalidades a Implementar\n",
    "Necesitas desarrollar las siguientes funciones en Python:\n",
    "\n",
    "- `agregar_contacto(directorio, nombre, telefono)`  \n",
    "Esta función toma tu directorio de contactos, el nombre del nuevo contacto (un string) y su telefono (también un string). Debe añadir el nuevo contacto al directorio.\n",
    "Importante: Si el nombre ya existe en el directorio, la función debe imprimir un mensaje informando que el contacto ya está registrado y no debe modificar el número existente.\n",
    "Retorna True si el contacto fue agregado con éxito, y False si ya existía.\n",
    "\n",
    "- `buscar_contacto(directorio, nombre)`  \n",
    "Recibe tu directorio de contactos y el nombre del contacto que quieres buscar (un string).\n",
    "Debe encontrar y devolver el número de teléfono asociado a ese nombre.\n",
    "Si el contacto no se encuentra en el directorio, debe retornar None.\n",
    "\n",
    "- `eliminar_contacto(directorio, nombre)`    \n",
    "Esta función recibe tu directorio de contactos y el nombre del contacto a eliminar (un string).\n",
    "Debe quitar el contacto especificado del directorio.\n",
    "Importante: Si el contacto no existe en el directorio, debe imprimir un mensaje indicando que no se encontró el contacto y no realizar ninguna acción.\n",
    "Retorna True si el contacto fue eliminado, y False si no se encontró.\n",
    "\n",
    "- `listar_contactos(directorio)`  \n",
    "Toma como argumento tu directorio de contactos.\n",
    "Debe imprimir en pantalla todos los contactos actualmente en el directorio, usando un formato claro como: \"Nombre: Teléfono\".\n",
    "Si el directorio no contiene ningún contacto, debe imprimir un mensaje que diga \"El directorio está vacío. No hay contactos para mostrar.\""
   ]
  },
  {
   "cell_type": "code",
   "execution_count": null,
   "id": "f1ddf928",
   "metadata": {},
   "outputs": [],
   "source": [
    "# Solución \n",
    "\n",
    "# Creamos el diccionario para guardar los contactos\n",
    "contactos = {}\n",
    "\n",
    "# función para agregar contacto\n",
    "\n",
    "def agregar_contacto(directorio, nombre, telefono):\n",
    "    if nombre in directorio:\n",
    "        print(\"Operación inválida. Este contacto ya existe en sus contactos\")\n",
    "        return False\n",
    "    else:\n",
    "        directorio[nombre] = telefono\n",
    "        return True\n",
    "\n",
    "# función para buscar contacto\n",
    "\n",
    "def buscar_contacto(directorio, nombre):\n",
    "    if nombre in directorio:\n",
    "        return directorio[nombre]\n",
    "    else:\n",
    "        return None\n",
    "\n",
    "# Función para eliminar contactos\n",
    "\n",
    "def eliminar_contacto(directorio, nombre):\n",
    "    if nombre in directorio:\n",
    "        del directorio[nombre]\n",
    "        return True\n",
    "    else:\n",
    "        return None\n",
    "\n",
    "\n",
    "        "
   ]
  },
  {
   "cell_type": "code",
   "execution_count": null,
   "id": "6a658c0f",
   "metadata": {},
   "outputs": [
    {
     "name": "stdout",
     "output_type": "stream",
     "text": [
      "Operación inválida. Este contacto ya existe en sus contactos\n"
     ]
    }
   ],
   "source": [
    "agregar_contacto(contactos, \"kenye2r\", \"123345\")\n",
    "contactos\n",
    "\n"
   ]
  },
  {
   "cell_type": "code",
   "execution_count": 37,
   "id": "a8f48490",
   "metadata": {},
   "outputs": [
    {
     "data": {
      "text/plain": [
       "True"
      ]
     },
     "execution_count": 37,
     "metadata": {},
     "output_type": "execute_result"
    }
   ],
   "source": [
    "eliminar_contacto(contactos, \"kenyer\")"
   ]
  }
 ],
 "metadata": {
  "kernelspec": {
   "display_name": "base",
   "language": "python",
   "name": "python3"
  },
  "language_info": {
   "codemirror_mode": {
    "name": "ipython",
    "version": 3
   },
   "file_extension": ".py",
   "mimetype": "text/x-python",
   "name": "python",
   "nbconvert_exporter": "python",
   "pygments_lexer": "ipython3",
   "version": "3.12.4"
  }
 },
 "nbformat": 4,
 "nbformat_minor": 5
}
